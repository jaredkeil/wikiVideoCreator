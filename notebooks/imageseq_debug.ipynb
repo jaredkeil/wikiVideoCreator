{
 "cells": [
  {
   "cell_type": "code",
   "execution_count": 1,
   "metadata": {},
   "outputs": [],
   "source": [
    "from pathlib import Path\n",
    "import os\n",
    "import wikipediaapi\n",
    "from moviepy.editor import *\n",
    "import gizeh as gz\n",
    "from gtts import gTTS\n",
    "from pydub import AudioSegment\n",
    "\n",
    "import time\n",
    "from datetime import datetime\n",
    "\n",
    "from image_downloader import master_download\n",
    "from im_funcs import maxsize_pad\n",
    "from synthesize import synthesize as dctts_synthesize\n",
    "from hyperparams import Hyperparams as hp\n",
    "\n",
    "from movie_maker import WikiMovie"
   ]
  },
  {
   "cell_type": "code",
   "execution_count": 3,
   "metadata": {},
   "outputs": [],
   "source": [
    "# Default Parameters\n",
    "WHITE = (255, 255, 255)\n",
    "BLACK = (0, 0, 0)\n",
    "WHITE_GIZEH = (1, 1, 1)\n",
    "BLACK_GIZEH = (0, 0, 0)\n",
    "\n",
    "VIDEO_SIZE = (1920, 1080)\n",
    "IMG_SHAPE = (1080, 1920)\n",
    "IMG_DISPLAY_DURATION = 4    #duration, in seconds, to display each image\n",
    "\n",
    "excluded_sections = {'See also', 'References', 'Further reading', 'External links',\n",
    "                'Formats and track listings', 'Credits and personnel', 'Charts',\n",
    "                'Certifications', 'Release history'}\n",
    "\n",
    "stops = {'\\n', '\\t', 'e.g.', '[sic]', '[...]', 'i.e.',}"
   ]
  },
  {
   "cell_type": "code",
   "execution_count": 4,
   "metadata": {},
   "outputs": [],
   "source": [
    "wiki = wikipediaapi.Wikipedia('en')\n",
    "page = wiki.page(\"Illinois River\")\n",
    "WMM = WikiMovie(page, narrator='gtts', overwrite=False)"
   ]
  },
  {
   "cell_type": "code",
   "execution_count": 5,
   "metadata": {},
   "outputs": [
    {
     "name": "stdout",
     "output_type": "stream",
     "text": [
      "creating paths...\n",
      "/Users/jared/video-creater/images/Illinois River exists\n",
      "/Users/jared/video-creater/audio exists\n",
      "/Users/jared/video-creater/audio/Illinois River exists\n",
      "/Users/jared/video-creater/dc_tts exists\n",
      "/Users/jared/video-creater/dc_tts/text_input exists\n",
      "/Users/jared/video-creater/dc_tts/samples/Illinois River exists\n",
      "/Users/jared/video-creater/url_files exists\n",
      "/Users/jared/video-creater/videos exists\n"
     ]
    }
   ],
   "source": [
    "WMM.create_paths()"
   ]
  },
  {
   "cell_type": "code",
   "execution_count": 6,
   "metadata": {},
   "outputs": [
    {
     "name": "stdout",
     "output_type": "stream",
     "text": [
      "exluding See also\n",
      "exluding References\n",
      "exluding External links\n"
     ]
    }
   ],
   "source": [
    "WMM.flush_sections(WMM.page.sections)"
   ]
  },
  {
   "cell_type": "code",
   "execution_count": 7,
   "metadata": {},
   "outputs": [],
   "source": [
    "WMM.output_text()"
   ]
  },
  {
   "cell_type": "code",
   "execution_count": 8,
   "metadata": {},
   "outputs": [],
   "source": [
    "hp.test_data = str(WMM.sent_path)\n",
    "hp.sampledir = str(WMM.dctts_out)"
   ]
  },
  {
   "cell_type": "code",
   "execution_count": 9,
   "metadata": {},
   "outputs": [],
   "source": [
    "WMM.get_keywords()"
   ]
  },
  {
   "cell_type": "code",
   "execution_count": 10,
   "metadata": {
    "scrolled": true
   },
   "outputs": [
    {
     "name": "stdout",
     "output_type": "stream",
     "text": [
      "error saving resized image: 10.jpg \n",
      "error saving resized image: 2.jpg  \n",
      "error saving resized image: 3.jpg##  ]   \n",
      "error saving resized image: 12.jpg   ]   \n",
      "error saving resized image: 4.jpg]   \n",
      "error saving resized image: 5.jpg]   \n",
      "error saving resized image: 3.jpg]   \n",
      "error saving resized image: 15.jpg   \n",
      "error saving resized image: 12.jpg   \n",
      "error saving resized image: 1.jpg]   \n",
      "error saving resized image: 13.jpg  ]   \n",
      "Resizing Images [###################]   \r"
     ]
    }
   ],
   "source": [
    "WMM.process_images()"
   ]
  },
  {
   "cell_type": "code",
   "execution_count": 11,
   "metadata": {},
   "outputs": [],
   "source": [
    "WMM.make_narration()"
   ]
  },
  {
   "cell_type": "code",
   "execution_count": 12,
   "metadata": {},
   "outputs": [
    {
     "name": "stdout",
     "output_type": "stream",
     "text": [
      "['/Users/jared/video-creater/images/Illinois River/Illinois River/resize/8.jpg', '/Users/jared/video-creater/images/Illinois River/Illinois River/resize/9.jpg', '/Users/jared/video-creater/images/Illinois River/Illinois River/resize/12.jpg', '/Users/jared/video-creater/images/Illinois River/Illinois River/resize/13.jpg', '/Users/jared/video-creater/images/Illinois River/Illinois River/resize/11.jpg', '/Users/jared/video-creater/images/Illinois River/Illinois River/resize/4.jpg', '/Users/jared/video-creater/images/Illinois River/Illinois River/resize/5.jpg', '/Users/jared/video-creater/images/Illinois River/Illinois River/resize/7.jpg', '/Users/jared/video-creater/images/Illinois River/Illinois River/resize/6.jpg', '/Users/jared/video-creater/images/Illinois River/Illinois River/resize/3.jpg', '/Users/jared/video-creater/images/Illinois River/Illinois River/resize/1.jpg', '/Users/jared/video-creater/images/Illinois River/Illinois River/resize/0.jpg']\n",
      "[4, 4, 4, 4, 4, 4, 4, 4, 4, 4, 4, 4, 4, 4]\n",
      "Illinois River clip created!\n",
      "['/Users/jared/video-creater/images/Illinois River/Hydrography/resize/8.jpg', '/Users/jared/video-creater/images/Illinois River/Hydrography/resize/9.jpg', '/Users/jared/video-creater/images/Illinois River/Hydrography/resize/14.jpg', '/Users/jared/video-creater/images/Illinois River/Hydrography/resize/15.jpg', '/Users/jared/video-creater/images/Illinois River/Hydrography/resize/17.jpg', '/Users/jared/video-creater/images/Illinois River/Hydrography/resize/16.jpg', '/Users/jared/video-creater/images/Illinois River/Hydrography/resize/12.jpg', '/Users/jared/video-creater/images/Illinois River/Hydrography/resize/13.jpg', '/Users/jared/video-creater/images/Illinois River/Hydrography/resize/11.jpg', '/Users/jared/video-creater/images/Illinois River/Hydrography/resize/10.jpg', '/Users/jared/video-creater/images/Illinois River/Hydrography/resize/18.jpg', '/Users/jared/video-creater/images/Illinois River/Hydrography/resize/19.jpg', '/Users/jared/video-creater/images/Illinois River/Hydrography/resize/4.jpg', '/Users/jared/video-creater/images/Illinois River/Hydrography/resize/5.jpg', '/Users/jared/video-creater/images/Illinois River/Hydrography/resize/7.jpg', '/Users/jared/video-creater/images/Illinois River/Hydrography/resize/6.jpg', '/Users/jared/video-creater/images/Illinois River/Hydrography/resize/2.jpg', '/Users/jared/video-creater/images/Illinois River/Hydrography/resize/1.jpg', '/Users/jared/video-creater/images/Illinois River/Hydrography/resize/0.jpg']\n",
      "[4, 4, 4, 4, 4, 4, 4, 4, 4, 4, 4, 4, 4, 4, 4, 4, 4, 4, 4, 4]\n",
      "Hydrography clip created!\n"
     ]
    }
   ],
   "source": [
    "WMM.cliplist = []\n",
    "WMM.cliplist = [WMM.create_clip(sd) for sd in WMM.script[:2]]\n",
    "# for sd in WMM.script[:2]:\n",
    "#     WMM.create_clip()"
   ]
  },
  {
   "cell_type": "code",
   "execution_count": 13,
   "metadata": {},
   "outputs": [],
   "source": [
    "vid1 = concatenate_videoclips(WMM.cliplist,\n",
    "                                            method='compose').\\\n",
    "                                            on_color(color=BLACK, col_opacity=0)"
   ]
  },
  {
   "cell_type": "code",
   "execution_count": 14,
   "metadata": {},
   "outputs": [
    {
     "name": "stderr",
     "output_type": "stream",
     "text": [
      "chunk:   2%|▏         | 74/4917 [00:00<00:06, 702.97it/s, now=None]"
     ]
    },
    {
     "name": "stdout",
     "output_type": "stream",
     "text": [
      "Moviepy - Building video vid1.mp4.\n",
      "MoviePy - Writing audio in vid1TEMP_MPY_wvf_snd.mp4\n"
     ]
    },
    {
     "name": "stderr",
     "output_type": "stream",
     "text": [
      "t:   0%|          | 0/56 [00:00<?, ?it/s, now=None]                   "
     ]
    },
    {
     "name": "stdout",
     "output_type": "stream",
     "text": [
      "MoviePy - Done.\n",
      "Moviepy - Writing video vid1.mp4\n",
      "\n"
     ]
    },
    {
     "name": "stderr",
     "output_type": "stream",
     "text": [
      "                                                            "
     ]
    },
    {
     "name": "stdout",
     "output_type": "stream",
     "text": [
      "Moviepy - Done !\n",
      "Moviepy - video ready vid1.mp4\n"
     ]
    },
    {
     "name": "stderr",
     "output_type": "stream",
     "text": [
      "\r"
     ]
    }
   ],
   "source": [
    "vid1.write_videofile('vid1.mp4', fps=0.25, codec='mpeg4', \n",
    "                                   audio_codec=\"aac\", preset='ultrafast')"
   ]
  },
  {
   "cell_type": "code",
   "execution_count": 20,
   "metadata": {},
   "outputs": [],
   "source": [
    "sd = WMM.script[0]"
   ]
  },
  {
   "cell_type": "code",
   "execution_count": 22,
   "metadata": {},
   "outputs": [
    {
     "name": "stdout",
     "output_type": "stream",
     "text": [
      "['/Users/jared/video-creater/images/Illinois River/Illinois River/resize/8.jpg', '/Users/jared/video-creater/images/Illinois River/Illinois River/resize/9.jpg', '/Users/jared/video-creater/images/Illinois River/Illinois River/resize/12.jpg', '/Users/jared/video-creater/images/Illinois River/Illinois River/resize/13.jpg', '/Users/jared/video-creater/images/Illinois River/Illinois River/resize/11.jpg', '/Users/jared/video-creater/images/Illinois River/Illinois River/resize/4.jpg', '/Users/jared/video-creater/images/Illinois River/Illinois River/resize/5.jpg', '/Users/jared/video-creater/images/Illinois River/Illinois River/resize/7.jpg', '/Users/jared/video-creater/images/Illinois River/Illinois River/resize/6.jpg', '/Users/jared/video-creater/images/Illinois River/Illinois River/resize/3.jpg', '/Users/jared/video-creater/images/Illinois River/Illinois River/resize/1.jpg', '/Users/jared/video-creater/images/Illinois River/Illinois River/resize/0.jpg']\n",
      "[4, 4, 4, 4, 4, 4, 4, 4, 4, 4, 4, 4, 4, 4]\n",
      "Illinois River clip created!\n"
     ]
    }
   ],
   "source": [
    "prefix = str(WMM.auddir / sd['title'])\n",
    "ACH = AudioFileClip(prefix + '_header.mp3').set_fps(1)\n",
    "\n",
    "fontsize = 130 - (30 * sd['level']) # higher level means deeper 'indentation'\n",
    "V = TextClip(sd['title'], color='white', fontsize=fontsize, \n",
    "            size=VIDEO_SIZE, method='caption').\\\n",
    "            set_audio(ACH).set_duration(ACH.duration)\n",
    "\n",
    "if sd['title'] in WMM.keywords or sd['level'] == 0:\n",
    "    ACT = AudioFileClip(prefix + '_text.mp3').set_fps(1)\n",
    "    print(sd['imgpaths'])   \n",
    "    print(sd['idd'])              \n",
    "    IS = ImageSequenceClip(sequence=sd['imgpaths'],\n",
    "                        durations=sd['idd'], load_images=True).\\\n",
    "                    set_position(('center', 400)).\\\n",
    "                    fx(vfx.loop, duration=ACT.duration).\\\n",
    "                    set_audio(ACT)\n",
    "    V = concatenate_videoclips([V, IS])\n",
    "print(sd['title'], 'clip created!')\n",
    "V = V.set_fps(1)"
   ]
  },
  {
   "cell_type": "code",
   "execution_count": 23,
   "metadata": {},
   "outputs": [
    {
     "data": {
      "text/plain": [
       "<moviepy.video.VideoClip.VideoClip at 0x14d1a5668>"
      ]
     },
     "execution_count": 23,
     "metadata": {},
     "output_type": "execute_result"
    }
   ],
   "source": [
    "V.write_videofile"
   ]
  },
  {
   "cell_type": "code",
   "execution_count": 35,
   "metadata": {},
   "outputs": [],
   "source": [
    "WMM.cliplist.append(TextClip(\"Thanks for watching \\n and listening\",\n",
    "                            color='white', fontsize=72, size=VIDEO_SIZE, method='caption').\\\n",
    "                            set_duration(2))\n",
    "\n",
    "WMM.cliplist.append(TextClip(\"Please Subscribe!\",\n",
    "                        color='white', fontsize=72, size=VIDEO_SIZE, method='caption').\\\n",
    "                        set_duration(2))\n"
   ]
  },
  {
   "cell_type": "code",
   "execution_count": 36,
   "metadata": {},
   "outputs": [
    {
     "data": {
      "text/plain": [
       "[<moviepy.video.VideoClip.VideoClip at 0x14d6aee80>,\n",
       " <moviepy.video.VideoClip.TextClip at 0x14ce5e240>,\n",
       " <moviepy.video.VideoClip.TextClip at 0x14ce5ee10>]"
      ]
     },
     "execution_count": 36,
     "metadata": {},
     "output_type": "execute_result"
    }
   ],
   "source": [
    "WMM.cliplist"
   ]
  },
  {
   "cell_type": "code",
   "execution_count": 43,
   "metadata": {},
   "outputs": [],
   "source": [
    "video = concatenate_videoclips(WMM.cliplist + [thanks, subscribe],\n",
    "                                            method='compose').\\\n",
    "                                            on_color(color=BLACK, col_opacity=0)"
   ]
  },
  {
   "cell_type": "code",
   "execution_count": 44,
   "metadata": {},
   "outputs": [
    {
     "name": "stderr",
     "output_type": "stream",
     "text": [
      "chunk:   2%|▏         | 30/1737 [00:00<00:06, 280.94it/s, now=None]"
     ]
    },
    {
     "name": "stdout",
     "output_type": "stream",
     "text": [
      "Moviepy - Building video test.mp4.\n",
      "MoviePy - Writing audio in testTEMP_MPY_wvf_snd.mp4\n"
     ]
    },
    {
     "name": "stderr",
     "output_type": "stream",
     "text": [
      "t:   0%|          | 0/44 [00:00<?, ?it/s, now=None]                   "
     ]
    },
    {
     "name": "stdout",
     "output_type": "stream",
     "text": [
      "MoviePy - Done.\n",
      "Moviepy - Writing video test.mp4\n",
      "\n"
     ]
    },
    {
     "name": "stderr",
     "output_type": "stream",
     "text": [
      "                                                            "
     ]
    },
    {
     "name": "stdout",
     "output_type": "stream",
     "text": [
      "Moviepy - Done !\n",
      "Moviepy - video ready test.mp4\n"
     ]
    },
    {
     "name": "stderr",
     "output_type": "stream",
     "text": [
      "\r"
     ]
    }
   ],
   "source": [
    "video.write_videofile('test.mp4', fps=0.5, codec='mpeg4', \n",
    "                                   audio_codec=\"aac\", preset='ultrafast')"
   ]
  },
  {
   "cell_type": "code",
   "execution_count": null,
   "metadata": {},
   "outputs": [],
   "source": []
  }
 ],
 "metadata": {
  "kernelspec": {
   "display_name": "Python 3",
   "language": "python",
   "name": "python3"
  },
  "language_info": {
   "codemirror_mode": {
    "name": "ipython",
    "version": 3
   },
   "file_extension": ".py",
   "mimetype": "text/x-python",
   "name": "python",
   "nbconvert_exporter": "python",
   "pygments_lexer": "ipython3",
   "version": "3.7.3"
  }
 },
 "nbformat": 4,
 "nbformat_minor": 2
}
