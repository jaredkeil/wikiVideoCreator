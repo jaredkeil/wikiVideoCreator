{
 "cells": [
  {
   "cell_type": "code",
   "execution_count": 2,
   "metadata": {},
   "outputs": [],
   "source": [
    "from moviepy.editor import *\n",
    "import gizeh as gz\n",
    "from gtts import gTTS\n",
    "import wikipedia\n",
    "from skimage.io import imread, imsave\n",
    "from skimage.transform import resize\n",
    "from skimage.util import img_as_ubyte\n",
    "import time\n",
    "from datetime import datetime"
   ]
  },
  {
   "cell_type": "code",
   "execution_count": 3,
   "metadata": {},
   "outputs": [],
   "source": [
    "def render_text(t):\n",
    "    surface = gz.Surface(1920, 1080, bg_color=BLACK_GIZEH)\n",
    "    text = gz.text(\n",
    "        title, fontfamily=\"Helvetica\",\n",
    "        fontsize=120, fontweight='bold', fill=WHITE_GIZEH, xy=(960, 400))\n",
    "    text.draw(surface)\n",
    "    return surface.get_npimage()"
   ]
  },
  {
   "cell_type": "markdown",
   "metadata": {},
   "source": [
    "#### Default Parameters:"
   ]
  },
  {
   "cell_type": "code",
   "execution_count": 4,
   "metadata": {},
   "outputs": [],
   "source": [
    "VIDEO_SIZE = (1920, 1080)\n",
    "IMG_SHAPE = (540, 960)\n",
    "\n",
    "WHITE = (255, 255, 255)\n",
    "BLACK = (0, 0, 0)\n",
    "WHITE_GIZEH = (1, 1, 1)\n",
    "BLACK_GIZEH = (0, 0, 0)\n",
    "\n",
    "IMG_DISPLAY_DURATION = 10    #duration, in seconds, to display each image"
   ]
  },
  {
   "cell_type": "markdown",
   "metadata": {},
   "source": [
    "#### Loading Wikipedia page, extracting transcript, setting folder paths:"
   ]
  },
  {
   "cell_type": "code",
   "execution_count": 63,
   "metadata": {},
   "outputs": [
    {
     "name": "stdout",
     "output_type": "stream",
     "text": [
      "Video Title:  Badger\n"
     ]
    }
   ],
   "source": [
    "page_name = \"Badger\"\n",
    "page = wikipedia.page(page_name)\n",
    "title = page.title\n",
    "script = page.content[:100] \n",
    "### Here would be the place to parse script\n",
    "print(\"Video Title: \", title)\n",
    "# print(script)"
   ]
  },
  {
   "cell_type": "code",
   "execution_count": 64,
   "metadata": {},
   "outputs": [],
   "source": [
    "# Folder paths\n",
    "IMG_FOLDER = 'images/' + title + \"/\"\n",
    "RESIZE = IMG_FOLDER + \"/resize\"\n",
    "AUDIO_FOLDER = 'audio/'\n",
    "VID_FOLDER = 'videos/'\n",
    "\n",
    "AUDIO_PATH = AUDIO_FOLDER + title + \".mp3\"\n",
    "VID_PATH = VID_FOLDER + title + \".mp4\"\n",
    "\n",
    "for folder in [IMG_FOLDER, RESIZE, AUDIO_FOLDER, VID_FOLDER]:\n",
    "    if not os.path.exists(folder):\n",
    "        os.makedirs(folder)"
   ]
  },
  {
   "cell_type": "markdown",
   "metadata": {},
   "source": [
    "#### Converting text-to-speech, creating MoviePy AudioClip:"
   ]
  },
  {
   "cell_type": "code",
   "execution_count": 65,
   "metadata": {},
   "outputs": [
    {
     "name": "stdout",
     "output_type": "stream",
     "text": [
      "Audio Duration:  00:00:06\n"
     ]
    }
   ],
   "source": [
    "tts = gTTS(script, lang='en')\n",
    "tts.save(AUDIO_PATH)\n",
    "audio_clip = AudioFileClip(AUDIO_PATH)\n",
    "DURATION = audio_clip.duration\n",
    "print(\"Audio Duration: \", time.strftime('%H:%M:%S', time.gmtime(DURATION)))"
   ]
  },
  {
   "cell_type": "markdown",
   "metadata": {},
   "source": [
    "#### Resizing images.\n",
    "\n",
    "Original images remain unchanged, resized copies are saved to './imgs/[title]/resize/'"
   ]
  },
  {
   "cell_type": "code",
   "execution_count": 68,
   "metadata": {},
   "outputs": [],
   "source": [
    "final_img_paths = []\n",
    "\n",
    "fnames =  [f for f in os.listdir(IMG_FOLDER) if not (f.startswith('.') or f == 'resize')]\n",
    "fixed_durations = [IMG_DISPLAY_DURATION for _ in fnames]\n",
    "\n",
    "for fname in fnames:\n",
    "    path = os.path.join(IMG_FOLDER, fname)\n",
    "    try:\n",
    "        img_array = resize(imread(path), output_shape=IMG_SHAPE, mode='constant')[:,:,:3]\n",
    "    except ValueError:\n",
    "        continue\n",
    "    save_path = os.path.join(RESIZE, fname)\n",
    "\n",
    "    final_img_paths.append(save_path)\n",
    "    imsave(save_path, img_as_ubyte(img_array))\n"
   ]
  },
  {
   "cell_type": "code",
   "execution_count": 69,
   "metadata": {
    "collapsed": true
   },
   "outputs": [
    {
     "data": {
      "text/plain": [
       "['images/Badger//resize/8.jpg',\n",
       " 'images/Badger//resize/9.jpg',\n",
       " 'images/Badger//resize/14.jpg',\n",
       " 'images/Badger//resize/15.jpg',\n",
       " 'images/Badger//resize/17.jpg',\n",
       " 'images/Badger//resize/16.jpg',\n",
       " 'images/Badger//resize/12.jpg',\n",
       " 'images/Badger//resize/13.jpg',\n",
       " 'images/Badger//resize/11.jpg',\n",
       " 'images/Badger//resize/10.jpg',\n",
       " 'images/Badger//resize/21.jpg',\n",
       " 'images/Badger//resize/20.jpg',\n",
       " 'images/Badger//resize/22.jpg',\n",
       " 'images/Badger//resize/23.jpg',\n",
       " 'images/Badger//resize/18.jpg',\n",
       " 'images/Badger//resize/24.jpg',\n",
       " 'images/Badger//resize/25.jpg',\n",
       " 'images/Badger//resize/19.jpg',\n",
       " 'images/Badger//resize/4.jpg',\n",
       " 'images/Badger//resize/5.jpg',\n",
       " 'images/Badger//resize/7.jpg',\n",
       " 'images/Badger//resize/6.jpg',\n",
       " 'images/Badger//resize/2.jpg',\n",
       " 'images/Badger//resize/3.jpg',\n",
       " 'images/Badger//resize/1.jpg',\n",
       " 'images/Badger//resize/0.jpg']"
      ]
     },
     "execution_count": 69,
     "metadata": {},
     "output_type": "execute_result"
    }
   ],
   "source": [
    "final_img_paths"
   ]
  },
  {
   "cell_type": "markdown",
   "metadata": {},
   "source": [
    "#### Creating Video\n",
    "Add multiple clips end on end. Start with title clip. Add images, attach audio to images, and loop during the duration of the audio."
   ]
  },
  {
   "cell_type": "code",
   "execution_count": 85,
   "metadata": {},
   "outputs": [
    {
     "name": "stdout",
     "output_type": "stream",
     "text": [
      "Total Video Duration:  00:00:09\n"
     ]
    }
   ],
   "source": [
    "title_text = VideoClip(render_text, duration=3)\n",
    "\n",
    "image_sequence = ImageSequenceClip(sequence=final_img_paths,\n",
    "                                  durations=fixed_durations,\n",
    "                                  load_images=True).\\\n",
    "                set_position(('center', 400)).\\\n",
    "                fx(vfx.loop, duration=DURATION).\\\n",
    "                set_audio(audio_clip).resize(VIDEO_SIZE)\n",
    "\n",
    "video = concatenate_videoclips([title_text, image_sequence], method='compose').\\\n",
    "        on_color(color=BLACK, col_opacity=1)\n",
    "\n",
    "\n",
    "print(\"Total Video Duration: \", time.strftime('%H:%M:%S', time.gmtime(video.duration)))"
   ]
  },
  {
   "cell_type": "markdown",
   "metadata": {},
   "source": [
    "### Save Video"
   ]
  },
  {
   "cell_type": "code",
   "execution_count": 9,
   "metadata": {
    "scrolled": true
   },
   "outputs": [
    {
     "name": "stderr",
     "output_type": "stream",
     "text": [
      "chunk:   6%|▋         | 116/1801 [00:00<00:01, 1159.42it/s, now=None]"
     ]
    },
    {
     "name": "stdout",
     "output_type": "stream",
     "text": [
      "Moviepy - Building video videos/Coronavirus.mp4.\n",
      "MoviePy - Writing audio in CoronavirusTEMP_MPY_wvf_snd.mp4\n"
     ]
    },
    {
     "name": "stderr",
     "output_type": "stream",
     "text": [
      "t:   0%|          | 0/817 [00:00<?, ?it/s, now=None]                 "
     ]
    },
    {
     "name": "stdout",
     "output_type": "stream",
     "text": [
      "MoviePy - Done.\n",
      "Moviepy - Writing video videos/Coronavirus.mp4\n",
      "\n"
     ]
    },
    {
     "name": "stderr",
     "output_type": "stream",
     "text": [
      "                                                              \r"
     ]
    },
    {
     "name": "stdout",
     "output_type": "stream",
     "text": [
      "Moviepy - Done !\n",
      "Moviepy - video ready videos/Coronavirus.mp4\n",
      "Video Encoding completed in time:  0:02:03.656180\n"
     ]
    },
    {
     "data": {
      "text/plain": [
       "0"
      ]
     },
     "execution_count": 9,
     "metadata": {},
     "output_type": "execute_result"
    }
   ],
   "source": [
    "start = datetime.now()\n",
    "\n",
    "video.write_videofile(VID_PATH, fps=10, audio_codec=\"aac\")\n",
    "\n",
    "dur = datetime.now() - start\n",
    "print(\"Video Encoding completed in time: \", dur)\n",
    "os.system(\"say 'video writing completed'\")"
   ]
  },
  {
   "cell_type": "code",
   "execution_count": 77,
   "metadata": {},
   "outputs": [],
   "source": [
    "title_text = TextClip(title, color='white', size=VIDEO_SIZE,\n",
    "         method='caption').set_duration(2)"
   ]
  },
  {
   "cell_type": "code",
   "execution_count": 78,
   "metadata": {},
   "outputs": [
    {
     "data": {
      "text/plain": [
       "(1920, 1080)"
      ]
     },
     "execution_count": 78,
     "metadata": {},
     "output_type": "execute_result"
    }
   ],
   "source": [
    "title_text.size"
   ]
  },
  {
   "cell_type": "code",
   "execution_count": 60,
   "metadata": {},
   "outputs": [],
   "source": [
    "thanks = TextClip(\"Thanks for watching\", color='white', fontsize=72, method='caption').set_duration(2)"
   ]
  },
  {
   "cell_type": "code",
   "execution_count": 71,
   "metadata": {},
   "outputs": [
    {
     "data": {
      "text/plain": [
       "(345, 177)"
      ]
     },
     "execution_count": 71,
     "metadata": {},
     "output_type": "execute_result"
    }
   ],
   "source": [
    "thanks.size"
   ]
  },
  {
   "cell_type": "code",
   "execution_count": 84,
   "metadata": {},
   "outputs": [
    {
     "data": {
      "text/plain": [
       "(1920, 1080)"
      ]
     },
     "execution_count": 84,
     "metadata": {},
     "output_type": "execute_result"
    }
   ],
   "source": [
    "image_sequence.on_color()"
   ]
  },
  {
   "cell_type": "code",
   "execution_count": 92,
   "metadata": {},
   "outputs": [
    {
     "data": {
      "text/plain": [
       "8.89"
      ]
     },
     "execution_count": 92,
     "metadata": {},
     "output_type": "execute_result"
    }
   ],
   "source": [
    "concatenate_videoclips([thanks, image_sequence]).resize(VIDEO_SIZE).duration"
   ]
  },
  {
   "cell_type": "code",
   "execution_count": 91,
   "metadata": {},
   "outputs": [
    {
     "data": {
      "text/plain": [
       "9.89"
      ]
     },
     "execution_count": 91,
     "metadata": {},
     "output_type": "execute_result"
    }
   ],
   "source": [
    "video.duration"
   ]
  },
  {
   "cell_type": "code",
   "execution_count": null,
   "metadata": {},
   "outputs": [],
   "source": []
  }
 ],
 "metadata": {
  "kernelspec": {
   "display_name": "Python 3",
   "language": "python",
   "name": "python3"
  },
  "language_info": {
   "codemirror_mode": {
    "name": "ipython",
    "version": 3
   },
   "file_extension": ".py",
   "mimetype": "text/x-python",
   "name": "python",
   "nbconvert_exporter": "python",
   "pygments_lexer": "ipython3",
   "version": "3.7.3"
  }
 },
 "nbformat": 4,
 "nbformat_minor": 2
}
