{
 "cells": [
  {
   "cell_type": "code",
   "execution_count": 1,
   "metadata": {},
   "outputs": [],
   "source": [
    "from moviepy.editor import *\n",
    "import gizeh as gz\n",
    "from gtts import gTTS\n",
    "import wikipedia\n",
    "from skimage.io import imread, imsave\n",
    "from skimage.transform import resize\n",
    "from skimage.util import img_as_ubyte\n",
    "import time\n",
    "from datetime import datetime"
   ]
  },
  {
   "cell_type": "code",
   "execution_count": 2,
   "metadata": {},
   "outputs": [],
   "source": [
    "def render_text(t):\n",
    "    surface = gz.Surface(1920, 1080, bg_color=BLACK_GIZEH)\n",
    "    text = gz.text(\n",
    "        title, fontfamily=\"Helvetica\",\n",
    "        fontsize=120, fontweight='bold', fill=WHITE_GIZEH, xy=(960, 400))\n",
    "    text.draw(surface)\n",
    "    return surface.get_npimage()"
   ]
  },
  {
   "cell_type": "markdown",
   "metadata": {},
   "source": [
    "#### Default Parameters:"
   ]
  },
  {
   "cell_type": "code",
   "execution_count": 3,
   "metadata": {},
   "outputs": [],
   "source": [
    "VIDEO_SIZE = (1920, 1080)\n",
    "IMG_SHAPE = (540, 960)\n",
    "\n",
    "WHITE = (255, 255, 255)\n",
    "BLACK = (0, 0, 0)\n",
    "WHITE_GIZEH = (1, 1, 1)\n",
    "BLACK_GIZEH = (0, 0, 0)\n",
    "\n",
    "IMG_DISPLAY_DURATION = 10    #duration, in seconds, to display each image"
   ]
  },
  {
   "cell_type": "markdown",
   "metadata": {},
   "source": [
    "#### Loading Wikipedia page, extracting transcript, setting folder paths:"
   ]
  },
  {
   "cell_type": "code",
   "execution_count": 4,
   "metadata": {},
   "outputs": [
    {
     "name": "stdout",
     "output_type": "stream",
     "text": [
      "Video Title:  Coronavirus\n"
     ]
    }
   ],
   "source": [
    "page_name = \"Coronavirus\"\n",
    "page = wikipedia.page(page_name)\n",
    "title = page.title\n",
    "script = page.content \n",
    "### Here would be the place to parse script\n",
    "print(\"Video Title: \", title)\n",
    "# print(script)"
   ]
  },
  {
   "cell_type": "code",
   "execution_count": 5,
   "metadata": {},
   "outputs": [],
   "source": [
    "# Folder paths\n",
    "AUDIO_PATH = 'audio/' + title + \".mp3\"\n",
    "IMG_FOLDER = 'imgs/' + title\n",
    "RESIZE = IMG_FOLDER + \"/resize\"\n",
    "VID_PATH = \"videos/\" + title + \".mp4\"\n",
    "\n",
    "for folder in [IMG_FOLDER, RESIZE]:\n",
    "    if not os.path.exists(folder):\n",
    "        os.makedirs(folder)"
   ]
  },
  {
   "cell_type": "markdown",
   "metadata": {},
   "source": [
    "#### Converting text-to-speech, creating MoviePy AudioClip:"
   ]
  },
  {
   "cell_type": "code",
   "execution_count": 6,
   "metadata": {},
   "outputs": [
    {
     "name": "stdout",
     "output_type": "stream",
     "text": [
      "Audio Duration:  00:01:18\n"
     ]
    }
   ],
   "source": [
    "tts = gTTS(script, lang='en')\n",
    "tts.save(AUDIO_PATH)\n",
    "audio_clip = AudioFileClip(AUDIO_PATH)\n",
    "DURATION = audio_clip.duration\n",
    "print(\"Audio Duration: \", time.strftime('%H:%M:%S', time.gmtime(DURATION)))"
   ]
  },
  {
   "cell_type": "markdown",
   "metadata": {},
   "source": [
    "#### Resizing images.\n",
    "\n",
    "Original images remain unchanged, resized copies are saved to './imgs/[title]/resize/'"
   ]
  },
  {
   "cell_type": "code",
   "execution_count": 7,
   "metadata": {},
   "outputs": [],
   "source": [
    "final_img_paths = []\n",
    "\n",
    "fnames =  [f for f in os.listdir(IMG_FOLDER) if not (f.startswith('.') or f == 'resize')]\n",
    "fixed_durations = [IMG_DISPLAY_DURATION for _ in fnames]\n",
    "\n",
    "for fname in fnames:\n",
    "    path = os.path.join(IMG_FOLDER, fname)\n",
    "    img_array = resize(imread(path), output_shape=IMG_SHAPE, mode='constant')\n",
    "    save_path = os.path.join(RESIZE, fname)\n",
    "    final_img_paths.append(save_path)\n",
    "    imsave(save_path, img_as_ubyte(img_array))"
   ]
  },
  {
   "cell_type": "markdown",
   "metadata": {},
   "source": [
    "#### Creating Video\n",
    "Add multiple clips end on end. Start with title clip. Add images, attach audio to images, and loop during the duration of the audio."
   ]
  },
  {
   "cell_type": "code",
   "execution_count": 8,
   "metadata": {},
   "outputs": [
    {
     "name": "stdout",
     "output_type": "stream",
     "text": [
      "Total Video Duration:  00:01:21\n"
     ]
    }
   ],
   "source": [
    "title_text = VideoClip(render_text, duration=3)\n",
    "\n",
    "image_sequence = ImageSequenceClip(sequence=final_img_paths,\n",
    "                                  durations=fixed_durations,\n",
    "                                  load_images=True).\\\n",
    "                set_position(('center', 400)).\\\n",
    "                fx(vfx.loop, duration=DURATION).\\\n",
    "                set_audio(audio_clip)\n",
    "\n",
    "video = concatenate_videoclips([title_text, image_sequence], method='chain').\\\n",
    "        on_color(color=BLACK, col_opacity=1)\n",
    "\n",
    "\n",
    "print(\"Total Video Duration: \", time.strftime('%H:%M:%S', time.gmtime(video.duration)))"
   ]
  },
  {
   "cell_type": "markdown",
   "metadata": {},
   "source": [
    "### Save Video"
   ]
  },
  {
   "cell_type": "code",
   "execution_count": 9,
   "metadata": {
    "scrolled": true
   },
   "outputs": [
    {
     "name": "stderr",
     "output_type": "stream",
     "text": [
      "chunk:   6%|▋         | 116/1801 [00:00<00:01, 1159.42it/s, now=None]"
     ]
    },
    {
     "name": "stdout",
     "output_type": "stream",
     "text": [
      "Moviepy - Building video videos/Coronavirus.mp4.\n",
      "MoviePy - Writing audio in CoronavirusTEMP_MPY_wvf_snd.mp4\n"
     ]
    },
    {
     "name": "stderr",
     "output_type": "stream",
     "text": [
      "t:   0%|          | 0/817 [00:00<?, ?it/s, now=None]                 "
     ]
    },
    {
     "name": "stdout",
     "output_type": "stream",
     "text": [
      "MoviePy - Done.\n",
      "Moviepy - Writing video videos/Coronavirus.mp4\n",
      "\n"
     ]
    },
    {
     "name": "stderr",
     "output_type": "stream",
     "text": [
      "                                                              \r"
     ]
    },
    {
     "name": "stdout",
     "output_type": "stream",
     "text": [
      "Moviepy - Done !\n",
      "Moviepy - video ready videos/Coronavirus.mp4\n",
      "Video Encoding completed in time:  0:02:03.656180\n"
     ]
    },
    {
     "data": {
      "text/plain": [
       "0"
      ]
     },
     "execution_count": 9,
     "metadata": {},
     "output_type": "execute_result"
    }
   ],
   "source": [
    "start = datetime.now()\n",
    "\n",
    "video.write_videofile(VID_PATH, fps=10, audio_codec=\"aac\")\n",
    "\n",
    "dur = datetime.now() - start\n",
    "print(\"Video Encoding completed in time: \", dur)\n",
    "os.system(\"say 'video writing completed'\")"
   ]
  }
 ],
 "metadata": {
  "kernelspec": {
   "display_name": "Python 3",
   "language": "python",
   "name": "python3"
  },
  "language_info": {
   "codemirror_mode": {
    "name": "ipython",
    "version": 3
   },
   "file_extension": ".py",
   "mimetype": "text/x-python",
   "name": "python",
   "nbconvert_exporter": "python",
   "pygments_lexer": "ipython3",
   "version": "3.7.3"
  }
 },
 "nbformat": 4,
 "nbformat_minor": 2
}
