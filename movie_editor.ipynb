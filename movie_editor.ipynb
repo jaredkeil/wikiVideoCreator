{
 "cells": [
  {
   "cell_type": "code",
   "execution_count": 2,
   "metadata": {},
   "outputs": [],
   "source": [
    "from moviepy.editor import *\n",
    "import gizeh as gz\n",
    "from gtts import gTTS\n",
    "import wikipedia\n",
    "from skimage.io import imread, imsave\n",
    "from skimage.transform import resize\n",
    "from skimage.util import img_as_ubyte\n",
    "import time\n",
    "from datetime import datetime"
   ]
  },
  {
   "cell_type": "code",
   "execution_count": 3,
   "metadata": {},
   "outputs": [],
   "source": [
    "def render_text(t):\n",
    "    surface = gz.Surface(1920, 1080, bg_color=BLACK_GIZEH)\n",
    "    text = gz.text(\n",
    "        title, fontfamily=\"Helvetica\",\n",
    "        fontsize=120, fontweight='bold', fill=WHITE_GIZEH, xy=(960, 400))\n",
    "    text.draw(surface)\n",
    "    return surface.get_npimage()"
   ]
  },
  {
   "cell_type": "markdown",
   "metadata": {},
   "source": [
    "#### Default Parameters:"
   ]
  },
  {
   "cell_type": "code",
   "execution_count": 4,
   "metadata": {},
   "outputs": [],
   "source": [
    "VIDEO_SIZE = (1920, 1080)\n",
    "IMG_SHAPE = (540, 960)\n",
    "\n",
    "WHITE = (255, 255, 255)\n",
    "BLACK = (0, 0, 0)\n",
    "WHITE_GIZEH = (1, 1, 1)\n",
    "BLACK_GIZEH = (0, 0, 0)\n",
    "\n",
    "IMG_DISPLAY_DURATION = 10    #duration, in seconds, to display each image"
   ]
  },
  {
   "cell_type": "markdown",
   "metadata": {},
   "source": [
    "#### Loading Wikipedia page, extracting transcript, setting folder paths:"
   ]
  },
  {
   "cell_type": "code",
   "execution_count": 36,
   "metadata": {},
   "outputs": [
    {
     "name": "stdout",
     "output_type": "stream",
     "text": [
      "Video Title:  Badger\n"
     ]
    }
   ],
   "source": [
    "page_name = \"Badger\"\n",
    "page = wikipedia.page(page_name)\n",
    "title = page.title\n",
    "script = page.content[:100] \n",
    "### Here would be the place to parse script\n",
    "print(\"Video Title: \", title)\n",
    "# print(script)"
   ]
  },
  {
   "cell_type": "code",
   "execution_count": 37,
   "metadata": {},
   "outputs": [],
   "source": [
    "# Folder paths\n",
    "IMG_FOLDER = 'images/' + title + \"/\"\n",
    "RESIZE = IMG_FOLDER + \"/resize\"\n",
    "AUDIO_FOLDER = 'audio/'\n",
    "VID_FOLDER = 'videos/'\n",
    "\n",
    "AUDIO_PATH = AUDIO_FOLDER + title + \".mp3\"\n",
    "VID_PATH = VID_FOLDER + title + \".mp4\"\n",
    "\n",
    "for folder in [IMG_FOLDER, RESIZE, AUDIO_FOLDER, VID_FOLDER]:\n",
    "    if not os.path.exists(folder):\n",
    "        os.makedirs(folder)"
   ]
  },
  {
   "cell_type": "markdown",
   "metadata": {},
   "source": [
    "#### Converting text-to-speech, creating MoviePy AudioClip:"
   ]
  },
  {
   "cell_type": "code",
   "execution_count": 38,
   "metadata": {},
   "outputs": [
    {
     "name": "stdout",
     "output_type": "stream",
     "text": [
      "Audio Duration:  00:00:06\n"
     ]
    }
   ],
   "source": [
    "tts = gTTS(script, lang='en')\n",
    "tts.save(AUDIO_PATH)\n",
    "audio_clip = AudioFileClip(AUDIO_PATH)\n",
    "DURATION = audio_clip.duration\n",
    "print(\"Audio Duration: \", time.strftime('%H:%M:%S', time.gmtime(DURATION)))"
   ]
  },
  {
   "cell_type": "markdown",
   "metadata": {},
   "source": [
    "#### Resizing images.\n",
    "\n",
    "Original images remain unchanged, resized copies are saved to './imgs/[title]/resize/'"
   ]
  },
  {
   "cell_type": "code",
   "execution_count": 46,
   "metadata": {},
   "outputs": [
    {
     "name": "stdout",
     "output_type": "stream",
     "text": [
      "test\n",
      "test\n",
      "test\n",
      "test\n",
      "test\n",
      "test\n",
      "test\n",
      "test\n",
      "test\n",
      "test\n",
      "test\n",
      "test\n",
      "test\n",
      "test\n",
      "test\n",
      "test\n",
      "test\n",
      "test\n",
      "test\n",
      "test\n",
      "test\n",
      "test\n",
      "test\n",
      "test\n",
      "test\n",
      "test\n"
     ]
    },
    {
     "ename": "IndexError",
     "evalue": "pop from empty list",
     "output_type": "error",
     "traceback": [
      "\u001b[0;31m---------------------------------------------------------------------------\u001b[0m",
      "\u001b[0;31mIndexError\u001b[0m                                Traceback (most recent call last)",
      "\u001b[0;32m<ipython-input-46-3a9e2700e13a>\u001b[0m in \u001b[0;36m<module>\u001b[0;34m\u001b[0m\n\u001b[1;32m     18\u001b[0m     \u001b[0mprint\u001b[0m\u001b[0;34m(\u001b[0m\u001b[0;34m'test'\u001b[0m\u001b[0;34m)\u001b[0m\u001b[0;34m\u001b[0m\u001b[0;34m\u001b[0m\u001b[0m\n\u001b[1;32m     19\u001b[0m     \u001b[0mfixed_durations\u001b[0m\u001b[0;34m.\u001b[0m\u001b[0mpop\u001b[0m\u001b[0;34m(\u001b[0m\u001b[0;34m)\u001b[0m\u001b[0;34m\u001b[0m\u001b[0;34m\u001b[0m\u001b[0m\n\u001b[0;32m---> 20\u001b[0;31m     \u001b[0mfinal_img_paths\u001b[0m\u001b[0;34m.\u001b[0m\u001b[0mpop\u001b[0m\u001b[0;34m(\u001b[0m\u001b[0;34m)\u001b[0m\u001b[0;34m\u001b[0m\u001b[0;34m\u001b[0m\u001b[0m\n\u001b[0m",
      "\u001b[0;31mIndexError\u001b[0m: pop from empty list"
     ]
    }
   ],
   "source": [
    "final_img_paths = []\n",
    "\n",
    "fnames =  [f for f in os.listdir(IMG_FOLDER) if not (f.startswith('.') or f == 'resize')]\n",
    "fixed_durations = [IMG_DISPLAY_DURATION for _ in fnames]\n",
    "\n",
    "for fname in fnames:\n",
    "    path = os.path.join(IMG_FOLDER, fname)\n",
    "    try:\n",
    "        img_array = resize(imread(path), output_shape=IMG_SHAPE, mode='constant')[:,:,:3]\n",
    "    except ValueError:\n",
    "        continue\n",
    "    save_path = os.path.join(RESIZE, fname)\n",
    "\n",
    "    final_img_paths.append(save_path)\n",
    "    imsave(save_path, img_as_ubyte(img_array))\n",
    "\n",
    "while sum(fixed_durations) > DURATION:\n",
    "    print('test')\n",
    "    fixed_durations.pop()\n",
    "    final_img_paths.pop()"
   ]
  },
  {
   "cell_type": "markdown",
   "metadata": {},
   "source": [
    "#### Creating Video\n",
    "Add multiple clips end on end. Start with title clip. Add images, attach audio to images, and loop during the duration of the audio."
   ]
  },
  {
   "cell_type": "code",
   "execution_count": 8,
   "metadata": {},
   "outputs": [
    {
     "name": "stdout",
     "output_type": "stream",
     "text": [
      "Total Video Duration:  00:01:21\n"
     ]
    }
   ],
   "source": [
    "title_text = VideoClip(render_text, duration=3)\n",
    "\n",
    "image_sequence = ImageSequenceClip(sequence=final_img_paths,\n",
    "                                  durations=fixed_durations,\n",
    "                                  load_images=True).\\\n",
    "                set_position(('center', 400)).\\\n",
    "                fx(vfx.loop, duration=DURATION).\\\n",
    "                set_audio(audio_clip)\n",
    "\n",
    "video = concatenate_videoclips([title_text, image_sequence], method='chain').\\\n",
    "        on_color(color=BLACK, col_opacity=1)\n",
    "\n",
    "\n",
    "print(\"Total Video Duration: \", time.strftime('%H:%M:%S', time.gmtime(video.duration)))"
   ]
  },
  {
   "cell_type": "markdown",
   "metadata": {},
   "source": [
    "### Save Video"
   ]
  },
  {
   "cell_type": "code",
   "execution_count": 9,
   "metadata": {
    "scrolled": false
   },
   "outputs": [
    {
     "name": "stderr",
     "output_type": "stream",
     "text": [
      "chunk:   6%|▋         | 116/1801 [00:00<00:01, 1159.42it/s, now=None]"
     ]
    },
    {
     "name": "stdout",
     "output_type": "stream",
     "text": [
      "Moviepy - Building video videos/Coronavirus.mp4.\n",
      "MoviePy - Writing audio in CoronavirusTEMP_MPY_wvf_snd.mp4\n"
     ]
    },
    {
     "name": "stderr",
     "output_type": "stream",
     "text": [
      "t:   0%|          | 0/817 [00:00<?, ?it/s, now=None]                 "
     ]
    },
    {
     "name": "stdout",
     "output_type": "stream",
     "text": [
      "MoviePy - Done.\n",
      "Moviepy - Writing video videos/Coronavirus.mp4\n",
      "\n"
     ]
    },
    {
     "name": "stderr",
     "output_type": "stream",
     "text": [
      "                                                              \r"
     ]
    },
    {
     "name": "stdout",
     "output_type": "stream",
     "text": [
      "Moviepy - Done !\n",
      "Moviepy - video ready videos/Coronavirus.mp4\n",
      "Video Encoding completed in time:  0:02:03.656180\n"
     ]
    },
    {
     "data": {
      "text/plain": [
       "0"
      ]
     },
     "execution_count": 9,
     "metadata": {},
     "output_type": "execute_result"
    }
   ],
   "source": [
    "start = datetime.now()\n",
    "\n",
    "video.write_videofile(VID_PATH, fps=10, audio_codec=\"aac\")\n",
    "\n",
    "dur = datetime.now() - start\n",
    "print(\"Video Encoding completed in time: \", dur)\n",
    "os.system(\"say 'video writing completed'\")"
   ]
  },
  {
   "cell_type": "code",
   "execution_count": null,
   "metadata": {},
   "outputs": [],
   "source": []
  },
  {
   "cell_type": "code",
   "execution_count": 10,
   "metadata": {},
   "outputs": [
    {
     "data": {
      "text/plain": [
       "0"
      ]
     },
     "execution_count": 10,
     "metadata": {},
     "output_type": "execute_result"
    }
   ],
   "source": [
    "int(1/4)"
   ]
  },
  {
   "cell_type": "code",
   "execution_count": 24,
   "metadata": {},
   "outputs": [],
   "source": [
    "b = slice(-1)"
   ]
  },
  {
   "cell_type": "code",
   "execution_count": 30,
   "metadata": {
    "scrolled": true
   },
   "outputs": [
    {
     "data": {
      "text/plain": [
       "'hell'"
      ]
     },
     "execution_count": 30,
     "metadata": {},
     "output_type": "execute_result"
    }
   ],
   "source": [
    "s = 'hello'\n",
    "s[:]"
   ]
  },
  {
   "cell_type": "code",
   "execution_count": 15,
   "metadata": {},
   "outputs": [
    {
     "ename": "TypeError",
     "evalue": "string indices must be integers",
     "output_type": "error",
     "traceback": [
      "\u001b[0;31m---------------------------------------------------------------------------\u001b[0m",
      "\u001b[0;31mTypeError\u001b[0m                                 Traceback (most recent call last)",
      "\u001b[0;32m<ipython-input-15-32b37d43effc>\u001b[0m in \u001b[0;36m<module>\u001b[0;34m\u001b[0m\n\u001b[0;32m----> 1\u001b[0;31m \u001b[0ms\u001b[0m\u001b[0;34m[\u001b[0m\u001b[0;32mNone\u001b[0m\u001b[0;34m]\u001b[0m\u001b[0;34m\u001b[0m\u001b[0;34m\u001b[0m\u001b[0m\n\u001b[0m",
      "\u001b[0;31mTypeError\u001b[0m: string indices must be integers"
     ]
    }
   ],
   "source": [
    "s[None]"
   ]
  },
  {
   "cell_type": "code",
   "execution_count": 31,
   "metadata": {},
   "outputs": [
    {
     "name": "stdout",
     "output_type": "stream",
     "text": [
      "this that\n"
     ]
    }
   ],
   "source": [
    "print(\"this\",\n",
    "     \"that\")"
   ]
  },
  {
   "cell_type": "code",
   "execution_count": 32,
   "metadata": {},
   "outputs": [
    {
     "data": {
      "text/plain": [
       "['AUDIO_PATH',\n",
       " 'AudioClip',\n",
       " 'AudioFileClip',\n",
       " 'BLACK',\n",
       " 'BLACK_GIZEH',\n",
       " 'ColorClip',\n",
       " 'CompositeAudioClip',\n",
       " 'CompositeVideoClip',\n",
       " 'DURATION',\n",
       " 'IMG_DISPLAY_DURATION',\n",
       " 'IMG_FOLDER',\n",
       " 'IMG_SHAPE',\n",
       " 'ImageClip',\n",
       " 'ImageSequenceClip',\n",
       " 'In',\n",
       " 'Out',\n",
       " 'RESIZE',\n",
       " 'TextClip',\n",
       " 'VIDEO_SIZE',\n",
       " 'VID_PATH',\n",
       " 'VideoClip',\n",
       " 'VideoFileClip',\n",
       " 'WHITE',\n",
       " 'WHITE_GIZEH',\n",
       " '_',\n",
       " '_14',\n",
       " '_17',\n",
       " '_20',\n",
       " '_25',\n",
       " '_29',\n",
       " '_30',\n",
       " '_9',\n",
       " '__',\n",
       " '___',\n",
       " '__builtin__',\n",
       " '__builtins__',\n",
       " '__doc__',\n",
       " '__loader__',\n",
       " '__name__',\n",
       " '__package__',\n",
       " '__spec__',\n",
       " '_dh',\n",
       " '_i',\n",
       " '_i1',\n",
       " '_i10',\n",
       " '_i11',\n",
       " '_i12',\n",
       " '_i13',\n",
       " '_i14',\n",
       " '_i15',\n",
       " '_i16',\n",
       " '_i17',\n",
       " '_i18',\n",
       " '_i19',\n",
       " '_i2',\n",
       " '_i20',\n",
       " '_i21',\n",
       " '_i22',\n",
       " '_i23',\n",
       " '_i24',\n",
       " '_i25',\n",
       " '_i26',\n",
       " '_i27',\n",
       " '_i28',\n",
       " '_i29',\n",
       " '_i3',\n",
       " '_i30',\n",
       " '_i31',\n",
       " '_i32',\n",
       " '_i4',\n",
       " '_i5',\n",
       " '_i6',\n",
       " '_i7',\n",
       " '_i8',\n",
       " '_i9',\n",
       " '_ih',\n",
       " '_ii',\n",
       " '_iii',\n",
       " '_oh',\n",
       " 'afx',\n",
       " 'audio_clip',\n",
       " 'b',\n",
       " 'clips_array',\n",
       " 'concatenate',\n",
       " 'concatenate_audioclips',\n",
       " 'concatenate_videoclips',\n",
       " 'cvsecs',\n",
       " 'datetime',\n",
       " 'download_webfile',\n",
       " 'dur',\n",
       " 'exit',\n",
       " 'ffmpeg_tools',\n",
       " 'final_img_paths',\n",
       " 'fixed_durations',\n",
       " 'fname',\n",
       " 'fnames',\n",
       " 'folder',\n",
       " 'gTTS',\n",
       " 'get_ipython',\n",
       " 'gz',\n",
       " 'image_sequence',\n",
       " 'imageio',\n",
       " 'img_array',\n",
       " 'img_as_ubyte',\n",
       " 'imread',\n",
       " 'imsave',\n",
       " 'ipython_display',\n",
       " 'method',\n",
       " 'os',\n",
       " 'page',\n",
       " 'page_name',\n",
       " 'path',\n",
       " 'preview',\n",
       " 'quit',\n",
       " 'render_text',\n",
       " 'resize',\n",
       " 's',\n",
       " 'save_path',\n",
       " 'script',\n",
       " 'show',\n",
       " 'sliders',\n",
       " 'start',\n",
       " 'sys',\n",
       " 'time',\n",
       " 'title',\n",
       " 'title_text',\n",
       " 'transfx',\n",
       " 'tts',\n",
       " 'vfx',\n",
       " 'video',\n",
       " 'videotools',\n",
       " 'wikipedia']"
      ]
     },
     "execution_count": 32,
     "metadata": {},
     "output_type": "execute_result"
    }
   ],
   "source": [
    "dir()"
   ]
  },
  {
   "cell_type": "code",
   "execution_count": null,
   "metadata": {},
   "outputs": [],
   "source": []
  }
 ],
 "metadata": {
  "kernelspec": {
   "display_name": "Python 3",
   "language": "python",
   "name": "python3"
  },
  "language_info": {
   "codemirror_mode": {
    "name": "ipython",
    "version": 3
   },
   "file_extension": ".py",
   "mimetype": "text/x-python",
   "name": "python",
   "nbconvert_exporter": "python",
   "pygments_lexer": "ipython3",
   "version": "3.7.3"
  }
 },
 "nbformat": 4,
 "nbformat_minor": 2
}
