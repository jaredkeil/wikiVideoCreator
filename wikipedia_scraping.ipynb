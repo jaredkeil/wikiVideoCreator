{
 "cells": [
  {
   "cell_type": "markdown",
   "metadata": {},
   "source": [
    "### Wikipedia Web Scraping"
   ]
  },
  {
   "cell_type": "code",
   "execution_count": 1,
   "metadata": {},
   "outputs": [],
   "source": [
    "import wikipedia\n",
    "import pandas as pd"
   ]
  },
  {
   "cell_type": "code",
   "execution_count": 99,
   "metadata": {},
   "outputs": [],
   "source": [
    "url = \"https://en.wikipedia.org/wiki/Wikipedia:Top_25_Report\"\n",
    "table = pd.read_html(url)[2]"
   ]
  },
  {
   "cell_type": "code",
   "execution_count": 100,
   "metadata": {},
   "outputs": [
    {
     "data": {
      "text/html": [
       "<div>\n",
       "<style scoped>\n",
       "    .dataframe tbody tr th:only-of-type {\n",
       "        vertical-align: middle;\n",
       "    }\n",
       "\n",
       "    .dataframe tbody tr th {\n",
       "        vertical-align: top;\n",
       "    }\n",
       "\n",
       "    .dataframe thead th {\n",
       "        text-align: right;\n",
       "    }\n",
       "</style>\n",
       "<table border=\"1\" class=\"dataframe\">\n",
       "  <thead>\n",
       "    <tr style=\"text-align: right;\">\n",
       "      <th></th>\n",
       "      <th>Rank</th>\n",
       "      <th>Article</th>\n",
       "      <th>Class</th>\n",
       "      <th>Views</th>\n",
       "      <th>Image</th>\n",
       "      <th>Notes/about</th>\n",
       "    </tr>\n",
       "  </thead>\n",
       "  <tbody>\n",
       "    <tr>\n",
       "      <td>0</td>\n",
       "      <td>1</td>\n",
       "      <td>2019–20 coronavirus pandemic</td>\n",
       "      <td>NaN</td>\n",
       "      <td>7645103</td>\n",
       "      <td>NaN</td>\n",
       "      <td>Early 2020 bears the burden of a multinational...</td>\n",
       "    </tr>\n",
       "    <tr>\n",
       "      <td>1</td>\n",
       "      <td>2</td>\n",
       "      <td>Coronavirus</td>\n",
       "      <td>NaN</td>\n",
       "      <td>2749576</td>\n",
       "      <td>NaN</td>\n",
       "      <td>The term 'Coronavirus' refers to a class of vi...</td>\n",
       "    </tr>\n",
       "    <tr>\n",
       "      <td>2</td>\n",
       "      <td>3</td>\n",
       "      <td>Spanish flu</td>\n",
       "      <td>NaN</td>\n",
       "      <td>2648537</td>\n",
       "      <td>NaN</td>\n",
       "      <td>The Spanish flu was a flu pandemic that occurr...</td>\n",
       "    </tr>\n",
       "    <tr>\n",
       "      <td>3</td>\n",
       "      <td>4</td>\n",
       "      <td>Coronavirus disease 2019</td>\n",
       "      <td>NaN</td>\n",
       "      <td>2455634</td>\n",
       "      <td>NaN</td>\n",
       "      <td>The illness caused by the Severe acute respira...</td>\n",
       "    </tr>\n",
       "    <tr>\n",
       "      <td>4</td>\n",
       "      <td>5</td>\n",
       "      <td>2020 coronavirus pandemic in Italy</td>\n",
       "      <td>NaN</td>\n",
       "      <td>2087780</td>\n",
       "      <td>NaN</td>\n",
       "      <td>Attention drawn by the Coronavirus pandemic is...</td>\n",
       "    </tr>\n",
       "  </tbody>\n",
       "</table>\n",
       "</div>"
      ],
      "text/plain": [
       "   Rank                             Article  Class    Views  Image  \\\n",
       "0     1        2019–20 coronavirus pandemic    NaN  7645103    NaN   \n",
       "1     2                         Coronavirus    NaN  2749576    NaN   \n",
       "2     3                         Spanish flu    NaN  2648537    NaN   \n",
       "3     4            Coronavirus disease 2019    NaN  2455634    NaN   \n",
       "4     5  2020 coronavirus pandemic in Italy    NaN  2087780    NaN   \n",
       "\n",
       "                                         Notes/about  \n",
       "0  Early 2020 bears the burden of a multinational...  \n",
       "1  The term 'Coronavirus' refers to a class of vi...  \n",
       "2  The Spanish flu was a flu pandemic that occurr...  \n",
       "3  The illness caused by the Severe acute respira...  \n",
       "4  Attention drawn by the Coronavirus pandemic is...  "
      ]
     },
     "execution_count": 100,
     "metadata": {},
     "output_type": "execute_result"
    }
   ],
   "source": [
    "table.head()"
   ]
  },
  {
   "cell_type": "code",
   "execution_count": 84,
   "metadata": {},
   "outputs": [],
   "source": [
    "top_25_list = list(map(lambda x: wikipedia.page(x), table[\"Article\"]))"
   ]
  },
  {
   "cell_type": "code",
   "execution_count": 98,
   "metadata": {},
   "outputs": [
    {
     "name": "stdout",
     "output_type": "stream",
     "text": [
      "https://en.wikipedia.org/wiki/Timeline_of_the_2019%E2%80%9320_coronavirus_pandemic\n",
      "https://en.wikipedia.org/wiki/Coronavirus\n",
      "https://en.wikipedia.org/wiki/Spanish_flu\n",
      "https://en.wikipedia.org/wiki/Coronavirus_disease_2019\n",
      "https://en.wikipedia.org/wiki/2020_coronavirus_pandemic_in_Italy\n",
      "https://en.wikipedia.org/wiki/2020_coronavirus_pandemic_in_India\n",
      "https://en.wikipedia.org/wiki/2020_coronavirus_pandemic_in_the_United_States\n",
      "https://en.wikipedia.org/wiki/Kenny_Rogers\n",
      "https://en.wikipedia.org/wiki/2019%E2%80%9320_coronavirus_pandemic_by_country_and_territory\n",
      "https://en.wikipedia.org/wiki/2009_swine_flu_pandemic\n",
      "https://en.wikipedia.org/wiki/Contagion_(2011_film)\n",
      "https://en.wikipedia.org/wiki/Martial_law\n",
      "https://en.wikipedia.org/wiki/Black_Death\n",
      "https://en.wikipedia.org/wiki/2012_Delhi_gang_rape\n",
      "https://en.wikipedia.org/wiki/Zhong_Nanshan\n",
      "https://en.wikipedia.org/wiki/Lists_of_deaths_by_year\n",
      "https://en.wikipedia.org/wiki/Endemism\n",
      "https://en.wikipedia.org/wiki/Stafford_Disaster_Relief_and_Emergency_Assistance_Act\n",
      "https://en.wikipedia.org/wiki/Madam_C._J._Walker\n",
      "https://en.wikipedia.org/wiki/Andrew_Cuomo\n",
      "https://en.wikipedia.org/wiki/The_Eyes_of_Darkness\n",
      "https://en.wikipedia.org/wiki/2020_coronavirus_pandemic_in_Germany\n",
      "https://en.wikipedia.org/wiki/Anthony_Fauci\n",
      "https://en.wikipedia.org/wiki/2020_coronavirus_pandemic_in_Spain\n",
      "https://en.wikipedia.org/wiki/2020_coronavirus_pandemic_in_the_United_Kingdom\n"
     ]
    }
   ],
   "source": [
    "for p in top_25_list:\n",
    "    print(p.url)"
   ]
  },
  {
   "cell_type": "code",
   "execution_count": 101,
   "metadata": {},
   "outputs": [],
   "source": [
    "from gtts import gTTS"
   ]
  },
  {
   "cell_type": "code",
   "execution_count": 138,
   "metadata": {},
   "outputs": [],
   "source": [
    "tts = gTTS(top_25_list[4].content[:10000], lang='en')"
   ]
  },
  {
   "cell_type": "code",
   "execution_count": 139,
   "metadata": {},
   "outputs": [],
   "source": [
    "tts.save('audio_files/10K_2020 coronavirus pandemic in Italy.mp3')"
   ]
  },
  {
   "cell_type": "code",
   "execution_count": 134,
   "metadata": {},
   "outputs": [
    {
     "data": {
      "text/plain": [
       "'2020 coronavirus pandemic in Italy'"
      ]
     },
     "execution_count": 134,
     "metadata": {},
     "output_type": "execute_result"
    }
   ],
   "source": [
    "top_25_list[4].title"
   ]
  },
  {
   "cell_type": "code",
   "execution_count": 136,
   "metadata": {},
   "outputs": [],
   "source": [
    "# top_25_list[4].content"
   ]
  },
  {
   "cell_type": "code",
   "execution_count": 137,
   "metadata": {},
   "outputs": [
    {
     "data": {
      "text/plain": [
       "737"
      ]
     },
     "execution_count": 137,
     "metadata": {},
     "output_type": "execute_result"
    }
   ],
   "source": [
    "len(\"An ongoing worldwide pandemic of coronavirus disease 2019 (COVID-19), a novel infectious disease caused by severe acute respiratory syndrome coronavirus 2 (SARS-CoV-2), was first confirmed to have spread to Italy on 31 January 2020, when two Chinese tourists in Rome tested positive for the virus. One week later an Italian man repatriated back to Italy from the city of Wuhan, China, was hospitalised and confirmed as the third case in Italy. A cluster of cases was later detected, starting with 16 confirmed cases in Lombardy on 21 February, and 60 additional cases and the first deaths on 22 February. By the beginning of March, the virus had spread to all regions of Italy.On 31 January, the Italian government suspended all flights \")"
   ]
  },
  {
   "cell_type": "code",
   "execution_count": 140,
   "metadata": {},
   "outputs": [
    {
     "data": {
      "text/plain": [
       "\"An ongoing worldwide pandemic of coronavirus disease 2019 (COVID-19), a novel infectious disease caused by severe acute respiratory syndrome coronavirus 2 (SARS-CoV-2), was first confirmed to have spread to Italy on 31 January 2020, when two Chinese tourists in Rome tested positive for the virus. One week later an Italian man repatriated back to Italy from the city of Wuhan, China, was hospitalised and confirmed as the third case in Italy. A cluster of cases was later detected, starting with 16 confirmed cases in Lombardy on 21 February, and 60 additional cases and the first deaths on 22 February. By the beginning of March, the virus had spread to all regions of Italy.On 31 January, the Italian government suspended all flights to and from China and declared a state of emergency. In February, eleven municipalities in northern Italy were identified as the centres of the two main Italian clusters and placed under quarantine. The majority of positive cases in other regions traced back to these two clusters. On 8 March 2020, Prime Minister Giuseppe Conte expanded the quarantine to all of Lombardy and 14 other northern provinces, and on the following day to all of Italy, placing more than 60 million people in quarantine. On 11 March 2020, Conte prohibited nearly all commercial activity except for supermarkets and pharmacies. On 21 March, the Italian government closed all non-essential businesses and industries, with additional restrictions to movement of people.On 6 March 2020, the Italian College of Anesthesia, Analgesia, Resuscitation and Intensive Care (SIAARTI) published medical ethics recommendations regarding triage protocols that might be employed.As of 1 April 2020, Italy is one of the world's centres of active coronavirus cases with 80,572 active cases. The total of confirmed cases is 110,574, with 13,155 deaths, and 16,847 recoveries. By 1 April, Italy had conducted about 541,400 tests for the virus. Due to the finite number of tests performed, the real number of infected people in Italy, as in other countries, is estimated to be higher than the official count. On 19 March, Italy became the country with the highest number of confirmed deaths in the world.\\n\\n\\n== Background ==\\nOn 31 December 2019, the Health Commission of Wuhan, Hubei, China, informed the WHO about a cluster of acute pneumonia cases with unknown origin in its province. On 9 January 2020, the Chinese Center for Disease Control and Prevention (CCDC) reported the identification of a novel coronavirus (later identified as the SARS-CoV-2) as the cause. In late January 2020, following the developments of COVID-19 outbreak in mainland China, on 3 February, Italy set up enhanced screening measures, including thermal cameras and medical staff at airports.\\n\\n\\n== Timeline ==\\n\\n\\n=== First confirmed cases ===\\nOn 31 January, the first two cases of COVID-19 were confirmed in Rome. A Chinese couple, originally from Wuhan, who had arrived in Italy on 23 January via Milan Malpensa Airport, travelled from the airport to Verona, then to Parma, arriving in Rome on 28 January. The next afternoon, they developed a cough, and by evening the man had a fever; the couple were taken to Lazzaro Spallanzani National Institute for Infectious Diseases where they tested positive for SARS-CoV-2 and were hospitalised. On 31 January, the Italian government suspended all flights to and from China and declared a state of emergency with the duration of six months. Prime Minister Giuseppe Conte said Italy was the first EU country to take this kind of precautionary measure. The government also introduced thermal scanners and temperature checks on international passengers arriving at Italian airports.On 6 February, an Italian repatriated from Wuhan tested positive for COVID-19, bringing the total number of cases in Italy to three.On 22 February, the repatriated Italian recovered and was discharged from the hospital. On 22 and 26 February, the two previously infected Chinese tourists tested negative for COVID-19 at Lazzaro Spallanzani National Institute in Rome.\\n\\n\\n=== Lombardy cluster ===\\nThe Lombardy outbreak came to light when a 38-year-old Italian tested positive in Codogno, a comune in the province of Lodi. On 14 February, he felt unwell and went to a doctor in Castiglione d'Adda. He was prescribed treatments for influenza. On 16 February, as the man's condition worsened, he went to Codogno Hospital, reporting respiratory problems. Initially there was no suspicion of COVID-19, so no additional precautionary measures were taken, and the virus was able to infect other patients and health workers. On 19 February, the wife of the patient revealed he had met an Italian friend who had returned from China on 21 January, who subsequently tested negative. Later, the patient, his pregnant wife and a friend tested positive. On 20 February, three more cases were confirmed after the patients reported symptoms of pneumonia. Thereafter, extensive screenings and checks were performed on everyone that had possibly been in contact with or near the infected subjects. It has been subsequently reported that the origin of these cases has a possible connection to the first European local transmission that occurred in Munich, Germany, on 19 January 2020, consistent with phylogenetic analysis of viral genome. The 38-year-old man was asymptomatic for weeks, reportedly led an active social life and potentially interacted with dozens of people before spreading the virus at Codogno Hospital. Afterward, he was transferred to Policlinico San Matteo in Pavia, and his wife to Sacco Hospital in Milan.\\n\\nOn 21 February 16 more cases were confirmed – 14 in Lombardy, including the doctor who prescribed treatments to the 38-year-old Codogno man, and two in Veneto. On 22 February, a 77-year-old woman from Casalpusterlengo, who suffered from pneumonia and visited the same emergency room as the 38-year-old from Codogno, died in Lombardy. Including the 78-year-old man who died in Veneto, the number of cases in Italy rose to 79. Of the 76 newly discovered cases, 54 were found in Lombardy, including one patient in San Raffaele Hospital in Milan and eight patients in Policlinico San Matteo in Pavia, 17 in Veneto, two in Emilia-Romagna, two in Lazio and one in Piedmont.On 23 February, a 68-year-old woman with cancer from Trescore Cremasco died in Crema. The number of cases in Italy rose to 152, including fourteen patients being treated at Policlinico San Matteo in Pavia. On 24 February, an 84-year-old man with pre-existing medical conditions from Villa di Serio died in Bergamo while hospitalised in the Papa Giovanni XXIII Hospital. An 88-year-old man from Caselle Landi, who resided in Codogno, died on the same day. An 80-year-old man from Castiglione d’Adda died at the Luigi Sacco Hospital in Milan. He was previously hospitalised in Lodi because of a heart attack, and then transferred to Milan when confirmed as positive. A 62-year-old man with pre-existing medical conditions from Castiglione d'Adda died in Sant'Anna Hospital in Como. Lombardy governor Attilio Fontana announced that the number of cases in Lombardy had risen to 172, with a total of 229 confirmed in Italy. On 25 February, an 84-year-old man from Nembro, a 91-year-old man from San Fiorano and an 83-year-old woman from Codogno died from complications caused by the infections.The number of cases in Emilia-Romagna rose to 23, spreading through the provinces of Piacenza, Parma, Modena and Rimini. These were all linked to the Lombardy cluster. A new case linked to the outbreak in Lombardy appeared in Palermo, Sicily, when a 60-year-old woman from Bergamo tested positive and was admitted to Cervello Hospital. A 49-year-old man who previously visited Codogno tested positive in Pescia, Tuscany. Officials in Liguria confirmed that a 72-year-old female tourist from Castiglione d'Adda tested positive in Alassio while she was staying in a hotel. The woman was treated at a hospital in Genoa. Later in the day, a second case in Liguria was confirmed, a 54-year-old man who had visited Codogno for work and tested positive in La Spezia. On 26 February, a 69-year-old man from Lodi with pre-existing medical conditions died in Emilia-Romagna. The mayor of Borgonovo Val Tidone, Pietro Mazzocchi, tested positive for SARS-CoV-2 and underwent a voluntary isolation at home.Additional cases involving six minors were identified in Lombardy. A 4-year-old girl from Castiglione d'Adda was admitted to Policlinico San Matteo in Pavia, and a 15-year-old was hospitalised in Seriate Hospital in Bergamo. Two 10-year-olds from Cremona and Lodi tested positive and were discharged. A 17-year-old from Valtellina who attended a school in Codogno, and a school friend from Sondrio, also tested positive. Officials in Apulia confirmed that a 33-year-old man from Taranto, who returned from Codogno on 24 February, tested positive and was admitted to San Giuseppe Moscati Hospital. A close advisor to Lombardy governor Attilio Fontana tested positive for SARS-CoV-2. Although Fontana tested negative, he decided to put himself in preventive isolation as well. Officials in Campania confirmed two new cases. A 24-year-old woman from Caserta, who had visited Milan, tested positive. A 25-year-old Ukrainian woman from Cremona, who previously visited Lombardy, tested positive at a hospital in Vallo della Lucania. Both were transferred to Hospital Domenico Cotugno in Naples, where they underwent isolation.On 26 February, a woman who had returned from Milan in the days before the emergency in Lombardy had started tested positive for the virus in Catania, Sicily. On 27 February, two 88-year-olds and an 80-year-old died in Lombardy. Officials in Abruzzo confirmed that a 50-year-old man from Brianza, Lombardy tested positive and was admitted to the intensive-care unit at Giuseppe Mazzini Hospital at Teramo. He and his family were staying in his holiday home at Roseto degli Abruzzi. On 28 February, four people died, including an \""
      ]
     },
     "execution_count": 140,
     "metadata": {},
     "output_type": "execute_result"
    }
   ],
   "source": [
    "top_25_list[4].content[:10000]"
   ]
  },
  {
   "cell_type": "code",
   "execution_count": 143,
   "metadata": {},
   "outputs": [
    {
     "name": "stdout",
     "output_type": "stream",
     "text": [
      "\n",
      "Item no.: 1 --> Item name = corona virus\n",
      "Evaluating...\n",
      "Starting Download...\n",
      "\n",
      "\n",
      "Unfortunately all 2 could not be downloaded because some images were not downloadable. 0 is all we got for this search filter!\n",
      "\n",
      "Errors: 0\n",
      "\n",
      "({'corona virus': []}, 0)\n"
     ]
    }
   ],
   "source": [
    "from google_images_download import google_images_download   #importing the library\n",
    "\n",
    "response = google_images_download.googleimagesdownload()   #class instantiation\n",
    "\n",
    "arguments = {\"keywords\":\"corona virus\",\"limit\":2,\"print_urls\":True}   #creating list of arguments\n",
    "paths = response.download(arguments)   #passing the arguments to the function\n",
    "print(paths)   #printing absolute paths of the downloaded images"
   ]
  },
  {
   "cell_type": "code",
   "execution_count": 1,
   "metadata": {},
   "outputs": [],
   "source": [
    "from GoogleImagesDownloader.download_with_selenium import *\n"
   ]
  },
  {
   "cell_type": "code",
   "execution_count": 11,
   "metadata": {},
   "outputs": [
    {
     "name": "stdout",
     "output_type": "stream",
     "text": [
      "Found image url: https://www.aljazeera.com/mritems/imagecache/mbdxxlarge/mritems/Images/2020/3/21/e5966fabf42a45d68f9840eae294e922_18.jpg\n",
      "Found image url: https://www.aljazeera.com/mritems/imagecache/mbdxxlarge/mritems/Images/2020/3/21/6837ebf153ed4c2383c30e3d2f433130_18.jpg\n",
      "Found image url: https://static01.nyt.com/images/2020/03/19/briefing/20Briefing-Asia-slide-VDPS/20Briefing-Asia-slide-VDPS-mediumSquareAt3X.jpg\n",
      "Found image url: https://ichef.bbci.co.uk/news/1024/branded_news/101E1/production/_111171066_7867b87d-0d55-4572-bfab-395d870c0999.jpg\n",
      "Found image url: https://static01.nyt.com/images/2020/03/21/world/21italy-virus1sub-copy/21italy-virus1sub-copy-articleLarge-v3.jpg?quality=75&auto=webp&disable=upscale\n",
      "Found image url: https://www.ft.com/__origami/service/image/v2/images/raw/http://blogs.ft.com/the-world/files/2020/03/Cremona.png?source=next&fit=scale-down&quality=highest&width=1067\n",
      "Found image url: https://www.aljazeera.com/mritems/imagecache/mbdxxlarge/mritems/Images/2020/3/18/5b725d2d733a49da94e3d480ab1ac714_18.jpg\n",
      "Found image url: https://media2.s-nbcnews.com/j/newscms/2020_12/3273546/200317-cremona-icu-al-1532_3eaad0ce0b6b8de6e365d7999fefd2e1.fit-760w.jpg\n",
      "Found image url: https://i.insider.com/5e7651961378e33f5b76b932?width=1100&format=jpeg&auto=webp\n",
      "Found image url: https://cdn.cnn.com/cnnnext/dam/assets/200308080946-coronavirus-hospital-worker-super-tease.jpg\n",
      "Found image url: https://s.abcnews.com/images/International/china-xiaogan-hospital-ct-scan-reuters-200221_hpMain_20200221-050729_16x9_992.jpg\n",
      "Found image url: https://i.insider.com/5e748732c48540638f6bc442?width=1100&format=jpeg&auto=webp\n",
      "Found image url: https://www.aljazeera.com/mritems/imagecache/mbdxxlarge/mritems/Images/2020/3/5/89909cb5fc19429bbea22e8683bc84d0_18.jpg\n",
      "Process-Corona Virus add keyword Italy , got 13 image urls so far\n",
      "Process-Corona Virus totally get 13 images\n",
      "Store all the links in file downloads/urls.txt\n"
     ]
    }
   ],
   "source": [
    "get_image_links(main_keyword='Corona Virus', \n",
    "                supplemented_keywords=['Italy'],\n",
    "                link_file_path='downloads/urls.txt', \n",
    "                num_requested= 15)"
   ]
  },
  {
   "cell_type": "code",
   "execution_count": 12,
   "metadata": {},
   "outputs": [
    {
     "name": "stdout",
     "output_type": "stream",
     "text": [
      "Start downloading with link file downloads/urls.txt..........\n",
      "\n",
      "https://www.aljazeera.com/mritems/imagecache/mbdxxlarge/mritems/Images/2020/3/18/5b725d2d733a49da94e3d480ab1ac714_18.jpg\n",
      "https://www.aljazeera.com\n",
      "Mozilla/5.0 (Macintosh; Intel Mac OS X 10.12; rv:46.0) Gecko/20100101 Firefox/46.0\n",
      "Process-urls.txt download image urls.txt/0.jpg\n",
      "\n",
      "https://static01.nyt.com/images/2020/03/19/briefing/20Briefing-Asia-slide-VDPS/20Briefing-Asia-slide-VDPS-mediumSquareAt3X.jpg\n",
      "https://static01.nyt.com\n",
      "Mozilla/5.0 (X11; Ubuntu; Linux i686; rv:47.0) Gecko/20100101 Firefox/47.0\n",
      "Process-urls.txt download image urls.txt/1.jpg\n",
      "\n",
      "https://www.ft.com/__origami/service/image/v2/images/raw/http://blogs.ft.com/the-world/files/2020/03/Cremona.png?source=next&fit=scale-down&quality=highest&width=1067\n",
      "https://www.ft.com\n",
      "Mozilla/5.0 (compatible; MSIE 8.0; Windows NT 5.1; WOW64; Trident/4.0)\n",
      "Process-urls.txt download image urls.txt/2.jpg\n",
      "\n",
      "https://ichef.bbci.co.uk/news/1024/branded_news/101E1/production/_111171066_7867b87d-0d55-4572-bfab-395d870c0999.jpg\n",
      "https://ichef.bbci.co.uk\n",
      "Mozilla/5.0 (Windows NT 6.2; Win64; x64) AppleWebKit/537.36 (KHTML, like Gecko) Chrome/53.0.2789.86 Safari/537.36\n",
      "Process-urls.txt download image urls.txt/3.jpg\n",
      "\n",
      "https://cdn.cnn.com/cnnnext/dam/assets/200308080946-coronavirus-hospital-worker-super-tease.jpg\n",
      "https://cdn.cnn.com\n",
      "Mozilla/5.0 (Windows NT 5.1; WOW64; rv:46.0) Gecko/20100101 Firefox/46.0\n",
      "Process-urls.txt download image urls.txt/4.jpg\n",
      "\n",
      "https://www.aljazeera.com/mritems/imagecache/mbdxxlarge/mritems/Images/2020/3/21/e5966fabf42a45d68f9840eae294e922_18.jpg\n",
      "https://www.aljazeera.com\n",
      "Mozilla/5.0 (Windows NT 6.1; Win64; x64; rv:45.0) Gecko/20100101 Firefox/45.0\n",
      "Process-urls.txt download image urls.txt/5.jpg\n",
      "\n",
      "https://media2.s-nbcnews.com/j/newscms/2020_12/3273546/200317-cremona-icu-al-1532_3eaad0ce0b6b8de6e365d7999fefd2e1.fit-760w.jpg\n",
      "https://media2.s-nbcnews.com\n",
      "Mozilla/5.0 (compatible; MSIE 10.0; Windows NT 10.0; WOW64; Trident/6.0)\n",
      "Process-urls.txt download image urls.txt/6.jpg\n",
      "\n",
      "https://i.insider.com/5e748732c48540638f6bc442?width=1100&format=jpeg&auto=webp\n",
      "https://i.insider.com\n",
      "Mozilla/5.0 (X11; Linux i686) AppleWebKit/537.36 (KHTML, like Gecko) Chrome/56.0.2971.55 Safari/537.36\n",
      "Process-urls.txt download image urls.txt/7.jpg\n",
      "\n",
      "https://i.insider.com/5e7651961378e33f5b76b932?width=1100&format=jpeg&auto=webp\n",
      "https://i.insider.com\n",
      "Mozilla/5.0 (Windows NT 6.2) AppleWebKit/537.36 (KHTML, like Gecko) Chrome/52.0.2758.30 Safari/537.36\n",
      "Process-urls.txt download image urls.txt/8.jpg\n",
      "\n",
      "https://www.aljazeera.com/mritems/imagecache/mbdxxlarge/mritems/Images/2020/3/5/89909cb5fc19429bbea22e8683bc84d0_18.jpg\n",
      "https://www.aljazeera.com\n",
      "Mozilla/5.0 (Macintosh; Intel Mac OS X 10_11_1) AppleWebKit/537.36 (KHTML, like Gecko) Chrome/51.0.2733.93 Safari/537.36\n",
      "Process-urls.txt download image urls.txt/9.jpg\n",
      "Process-urls.txt is sleeping\n",
      "\n",
      "https://static01.nyt.com/images/2020/03/21/world/21italy-virus1sub-copy/21italy-virus1sub-copy-articleLarge-v3.jpg?quality=75&auto=webp&disable=upscale\n",
      "https://static01.nyt.com\n",
      "Mozilla/5.0 (Macintosh; Intel Mac OS X 10.9; rv:51.0) Gecko/20100101 Firefox/51.0\n",
      "Process-urls.txt download image urls.txt/10.jpg\n",
      "\n",
      "https://s.abcnews.com/images/International/china-xiaogan-hospital-ct-scan-reuters-200221_hpMain_20200221-050729_16x9_992.jpg\n",
      "https://s.abcnews.com\n",
      "Mozilla/5.0 (Windows NT 10.0; Win64; x64) AppleWebKit/537.36 (KHTML, like Gecko) Chrome/56.0.2947.46 Safari/537.36\n",
      "Process-urls.txt download image urls.txt/11.jpg\n",
      "\n",
      "https://www.aljazeera.com/mritems/imagecache/mbdxxlarge/mritems/Images/2020/3/21/6837ebf153ed4c2383c30e3d2f433130_18.jpg\n",
      "https://www.aljazeera.com\n",
      "Mozilla/5.0 (compatible; MSIE 10.0; Windows NT 10.0; Win64; x64; Trident/6.0)\n",
      "Process-urls.txt download image urls.txt/12.jpg\n"
     ]
    }
   ],
   "source": [
    "download_images(link_file_path='downloads/urls.txt', download_dir='images', log_dir='log_dir')"
   ]
  },
  {
   "cell_type": "code",
   "execution_count": null,
   "metadata": {},
   "outputs": [],
   "source": []
  },
  {
   "cell_type": "code",
   "execution_count": null,
   "metadata": {},
   "outputs": [],
   "source": []
  },
  {
   "cell_type": "code",
   "execution_count": null,
   "metadata": {},
   "outputs": [],
   "source": []
  },
  {
   "cell_type": "code",
   "execution_count": null,
   "metadata": {},
   "outputs": [],
   "source": []
  },
  {
   "cell_type": "code",
   "execution_count": 3,
   "metadata": {},
   "outputs": [],
   "source": [
    "from GoogleImagesDownloader.download_images_with_time_limit import *"
   ]
  },
  {
   "cell_type": "code",
   "execution_count": null,
   "metadata": {},
   "outputs": [],
   "source": [
    "down"
   ]
  }
 ],
 "metadata": {
  "kernelspec": {
   "display_name": "Python 3",
   "language": "python",
   "name": "python3"
  },
  "language_info": {
   "codemirror_mode": {
    "name": "ipython",
    "version": 3
   },
   "file_extension": ".py",
   "mimetype": "text/x-python",
   "name": "python",
   "nbconvert_exporter": "python",
   "pygments_lexer": "ipython3",
   "version": "3.7.4"
  }
 },
 "nbformat": 4,
 "nbformat_minor": 4
}
