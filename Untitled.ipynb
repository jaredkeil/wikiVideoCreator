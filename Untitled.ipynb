{
 "cells": [
  {
   "cell_type": "code",
   "execution_count": 1,
   "metadata": {},
   "outputs": [],
   "source": [
    "from pathlib import Path\n",
    "import os\n",
    "import wikipediaapi\n",
    "from moviepy.editor import *\n",
    "import gizeh as gz\n",
    "from gtts import gTTS\n",
    "from pydub import AudioSegment\n",
    "\n",
    "import time\n",
    "from datetime import datetime\n",
    "\n",
    "from image_downloader import master_download\n",
    "from im_funcs import maxsize_pad\n",
    "from synthesize import synthesize as dctts_synthesize\n",
    "from hyperparams import Hyperparams as hp\n",
    "\n",
    "from movie_maker import WikiMovie"
   ]
  },
  {
   "cell_type": "code",
   "execution_count": 2,
   "metadata": {},
   "outputs": [],
   "source": [
    "# Default Parameters\n",
    "WHITE = (255, 255, 255)\n",
    "BLACK = (0, 0, 0)\n",
    "WHITE_GIZEH = (1, 1, 1)\n",
    "BLACK_GIZEH = (0, 0, 0)\n",
    "\n",
    "VIDEO_SIZE = (1920, 1080)\n",
    "IMG_SHAPE = (1080, 1920)\n",
    "IMG_DISPLAY_DURATION = 4    #duration, in seconds, to display each image\n",
    "\n",
    "excluded_sections = {'See also', 'References', 'Further reading', 'External links',\n",
    "                'Formats and track listings', 'Credits and personnel', 'Charts',\n",
    "                'Certifications', 'Release history'}\n",
    "\n",
    "stops = {'\\n', '\\t', 'e.g.', '[sic]', '[...]', 'i.e.',}"
   ]
  },
  {
   "cell_type": "code",
   "execution_count": 3,
   "metadata": {},
   "outputs": [],
   "source": [
    "wiki = wikipediaapi.Wikipedia('en')\n",
    "page = wiki.page(\"Illinois River\")\n",
    "WMM = WikiMovie(page, narrator='gtts', overwrite=False)"
   ]
  },
  {
   "cell_type": "code",
   "execution_count": 4,
   "metadata": {},
   "outputs": [
    {
     "name": "stdout",
     "output_type": "stream",
     "text": [
      "creating paths...\n",
      "/Users/jared/video-creater/images/Illinois River exists\n",
      "/Users/jared/video-creater/audio exists\n",
      "/Users/jared/video-creater/audio/Illinois River exists\n",
      "/Users/jared/video-creater/dc_tts exists\n",
      "/Users/jared/video-creater/dc_tts/text_input exists\n",
      "/Users/jared/video-creater/dc_tts/samples/Illinois River exists\n",
      "/Users/jared/video-creater/url_files exists\n",
      "/Users/jared/video-creater/videos exists\n"
     ]
    }
   ],
   "source": [
    "WMM.create_paths()"
   ]
  },
  {
   "cell_type": "code",
   "execution_count": 5,
   "metadata": {},
   "outputs": [
    {
     "name": "stdout",
     "output_type": "stream",
     "text": [
      "exluding See also\n",
      "exluding References\n",
      "exluding External links\n"
     ]
    }
   ],
   "source": [
    "WMM.flush_sections(WMM.page.sections)"
   ]
  },
  {
   "cell_type": "code",
   "execution_count": 6,
   "metadata": {},
   "outputs": [],
   "source": [
    "WMM.output_text()"
   ]
  },
  {
   "cell_type": "code",
   "execution_count": 7,
   "metadata": {},
   "outputs": [],
   "source": [
    "hp.test_data = str(WMM.sent_path)\n",
    "hp.sampledir = str(WMM.dctts_out)"
   ]
  },
  {
   "cell_type": "code",
   "execution_count": 8,
   "metadata": {},
   "outputs": [],
   "source": [
    "WMM.get_keywords()"
   ]
  },
  {
   "cell_type": "code",
   "execution_count": 9,
   "metadata": {
    "scrolled": true
   },
   "outputs": [
    {
     "name": "stdout",
     "output_type": "stream",
     "text": [
      "save path: /Users/jared/video-creater/images/Illinois River/Illinois River/resize/8.jpg\n",
      "save path: /Users/jared/video-creater/images/Illinois River/Illinois River/resize/9.jpg\n",
      "save path: /Users/jared/video-creater/images/Illinois River/Illinois River/resize/12.jpg\n",
      "save path: /Users/jared/video-creater/images/Illinois River/Illinois River/resize/13.jpg\n",
      "save path: /Users/jared/video-creater/images/Illinois River/Illinois River/resize/11.jpg\n",
      "save path: /Users/jared/video-creater/images/Illinois River/Illinois River/resize/10.jpg\n",
      "error saving resized image: 10.jpg\n",
      "save path: /Users/jared/video-creater/images/Illinois River/Illinois River/resize/4.jpg\n",
      "save path: /Users/jared/video-creater/images/Illinois River/Illinois River/resize/5.jpg\n",
      "save path: /Users/jared/video-creater/images/Illinois River/Illinois River/resize/7.jpg\n",
      "save path: /Users/jared/video-creater/images/Illinois River/Illinois River/resize/6.jpg\n",
      "save path: /Users/jared/video-creater/images/Illinois River/Illinois River/resize/2.jpg\n",
      "error saving resized image: 2.jpg\n",
      "save path: /Users/jared/video-creater/images/Illinois River/Illinois River/resize/3.jpg\n",
      "save path: /Users/jared/video-creater/images/Illinois River/Illinois River/resize/1.jpg\n",
      "save path: /Users/jared/video-creater/images/Illinois River/Illinois River/resize/0.jpg\n",
      "save path: /Users/jared/video-creater/images/Illinois River/Hydrography/resize/8.jpg\n",
      "save path: /Users/jared/video-creater/images/Illinois River/Hydrography/resize/9.jpg\n",
      "save path: /Users/jared/video-creater/images/Illinois River/Hydrography/resize/14.jpg\n",
      "save path: /Users/jared/video-creater/images/Illinois River/Hydrography/resize/15.jpg\n",
      "save path: /Users/jared/video-creater/images/Illinois River/Hydrography/resize/17.jpg\n",
      "save path: /Users/jared/video-creater/images/Illinois River/Hydrography/resize/16.jpg\n",
      "save path: /Users/jared/video-creater/images/Illinois River/Hydrography/resize/12.jpg\n",
      "save path: /Users/jared/video-creater/images/Illinois River/Hydrography/resize/13.jpg\n",
      "save path: /Users/jared/video-creater/images/Illinois River/Hydrography/resize/11.jpg\n",
      "save path: /Users/jared/video-creater/images/Illinois River/Hydrography/resize/10.jpg\n",
      "save path: /Users/jared/video-creater/images/Illinois River/Hydrography/resize/18.jpg\n",
      "save path: /Users/jared/video-creater/images/Illinois River/Hydrography/resize/19.jpg\n",
      "save path: /Users/jared/video-creater/images/Illinois River/Hydrography/resize/4.jpg\n",
      "save path: /Users/jared/video-creater/images/Illinois River/Hydrography/resize/5.jpg\n",
      "save path: /Users/jared/video-creater/images/Illinois River/Hydrography/resize/7.jpg\n",
      "save path: /Users/jared/video-creater/images/Illinois River/Hydrography/resize/6.jpg\n",
      "save path: /Users/jared/video-creater/images/Illinois River/Hydrography/resize/2.jpg\n",
      "save path: /Users/jared/video-creater/images/Illinois River/Hydrography/resize/3.jpg\n",
      "error saving resized image: 3.jpg\n",
      "save path: /Users/jared/video-creater/images/Illinois River/Hydrography/resize/1.jpg\n",
      "save path: /Users/jared/video-creater/images/Illinois River/Hydrography/resize/0.jpg\n",
      "save path: /Users/jared/video-creater/images/Illinois River/Geology/resize/8.jpg\n",
      "save path: /Users/jared/video-creater/images/Illinois River/Geology/resize/9.jpg\n",
      "save path: /Users/jared/video-creater/images/Illinois River/Geology/resize/14.jpg\n",
      "save path: /Users/jared/video-creater/images/Illinois River/Geology/resize/15.jpg\n",
      "save path: /Users/jared/video-creater/images/Illinois River/Geology/resize/12.jpg\n",
      "error saving resized image: 12.jpg\n",
      "save path: /Users/jared/video-creater/images/Illinois River/Geology/resize/13.jpg\n",
      "save path: /Users/jared/video-creater/images/Illinois River/Geology/resize/11.jpg\n",
      "save path: /Users/jared/video-creater/images/Illinois River/Geology/resize/10.jpg\n",
      "save path: /Users/jared/video-creater/images/Illinois River/Geology/resize/4.jpg\n",
      "error saving resized image: 4.jpg\n",
      "save path: /Users/jared/video-creater/images/Illinois River/Geology/resize/5.jpg\n",
      "error saving resized image: 5.jpg\n",
      "save path: /Users/jared/video-creater/images/Illinois River/Geology/resize/7.jpg\n",
      "save path: /Users/jared/video-creater/images/Illinois River/Geology/resize/6.jpg\n",
      "save path: /Users/jared/video-creater/images/Illinois River/Geology/resize/2.jpg\n",
      "save path: /Users/jared/video-creater/images/Illinois River/Geology/resize/3.jpg\n",
      "error saving resized image: 3.jpg\n",
      "save path: /Users/jared/video-creater/images/Illinois River/Geology/resize/1.jpg\n",
      "save path: /Users/jared/video-creater/images/Illinois River/Geology/resize/0.jpg\n",
      "save path: /Users/jared/video-creater/images/Illinois River/History/resize/8.jpg\n",
      "save path: /Users/jared/video-creater/images/Illinois River/History/resize/9.jpg\n",
      "save path: /Users/jared/video-creater/images/Illinois River/History/resize/14.jpg\n",
      "save path: /Users/jared/video-creater/images/Illinois River/History/resize/15.jpg\n",
      "error saving resized image: 15.jpg\n",
      "save path: /Users/jared/video-creater/images/Illinois River/History/resize/12.jpg\n",
      "error saving resized image: 12.jpg\n",
      "save path: /Users/jared/video-creater/images/Illinois River/History/resize/13.jpg\n",
      "save path: /Users/jared/video-creater/images/Illinois River/History/resize/11.jpg\n",
      "save path: /Users/jared/video-creater/images/Illinois River/History/resize/10.jpg\n",
      "save path: /Users/jared/video-creater/images/Illinois River/History/resize/4.jpg\n",
      "save path: /Users/jared/video-creater/images/Illinois River/History/resize/5.jpg\n",
      "save path: /Users/jared/video-creater/images/Illinois River/History/resize/7.jpg\n",
      "save path: /Users/jared/video-creater/images/Illinois River/History/resize/6.jpg\n",
      "save path: /Users/jared/video-creater/images/Illinois River/History/resize/2.jpg\n",
      "save path: /Users/jared/video-creater/images/Illinois River/History/resize/3.jpg\n",
      "save path: /Users/jared/video-creater/images/Illinois River/History/resize/1.jpg\n",
      "error saving resized image: 1.jpg\n",
      "save path: /Users/jared/video-creater/images/Illinois River/History/resize/0.jpg\n",
      "save path: /Users/jared/video-creater/images/Illinois River/Interpretation/resize/8.jpg\n",
      "save path: /Users/jared/video-creater/images/Illinois River/Interpretation/resize/9.jpg\n",
      "save path: /Users/jared/video-creater/images/Illinois River/Interpretation/resize/14.jpg\n",
      "save path: /Users/jared/video-creater/images/Illinois River/Interpretation/resize/15.jpg\n",
      "save path: /Users/jared/video-creater/images/Illinois River/Interpretation/resize/17.jpg\n",
      "save path: /Users/jared/video-creater/images/Illinois River/Interpretation/resize/16.jpg\n",
      "save path: /Users/jared/video-creater/images/Illinois River/Interpretation/resize/12.jpg\n",
      "save path: /Users/jared/video-creater/images/Illinois River/Interpretation/resize/13.jpg\n",
      "save path: /Users/jared/video-creater/images/Illinois River/Interpretation/resize/11.jpg\n",
      "save path: /Users/jared/video-creater/images/Illinois River/Interpretation/resize/10.jpg\n",
      "save path: /Users/jared/video-creater/images/Illinois River/Interpretation/resize/4.jpg\n",
      "save path: /Users/jared/video-creater/images/Illinois River/Interpretation/resize/5.jpg\n",
      "save path: /Users/jared/video-creater/images/Illinois River/Interpretation/resize/7.jpg\n",
      "save path: /Users/jared/video-creater/images/Illinois River/Interpretation/resize/6.jpg\n",
      "save path: /Users/jared/video-creater/images/Illinois River/Interpretation/resize/2.jpg\n",
      "save path: /Users/jared/video-creater/images/Illinois River/Interpretation/resize/3.jpg\n",
      "save path: /Users/jared/video-creater/images/Illinois River/Interpretation/resize/1.jpg\n",
      "save path: /Users/jared/video-creater/images/Illinois River/Interpretation/resize/0.jpg\n",
      "save path: /Users/jared/video-creater/images/Illinois River/Modern use/resize/8.jpg\n",
      "save path: /Users/jared/video-creater/images/Illinois River/Modern use/resize/9.jpg\n",
      "save path: /Users/jared/video-creater/images/Illinois River/Modern use/resize/14.jpg\n",
      "save path: /Users/jared/video-creater/images/Illinois River/Modern use/resize/15.jpg\n",
      "save path: /Users/jared/video-creater/images/Illinois River/Modern use/resize/17.jpg\n",
      "save path: /Users/jared/video-creater/images/Illinois River/Modern use/resize/16.jpg\n",
      "save path: /Users/jared/video-creater/images/Illinois River/Modern use/resize/12.jpg\n",
      "save path: /Users/jared/video-creater/images/Illinois River/Modern use/resize/13.jpg\n",
      "error saving resized image: 13.jpg\n"
     ]
    },
    {
     "name": "stdout",
     "output_type": "stream",
     "text": [
      "save path: /Users/jared/video-creater/images/Illinois River/Modern use/resize/11.jpg\n",
      "save path: /Users/jared/video-creater/images/Illinois River/Modern use/resize/10.jpg\n",
      "save path: /Users/jared/video-creater/images/Illinois River/Modern use/resize/18.jpg\n",
      "save path: /Users/jared/video-creater/images/Illinois River/Modern use/resize/4.jpg\n",
      "save path: /Users/jared/video-creater/images/Illinois River/Modern use/resize/5.jpg\n",
      "save path: /Users/jared/video-creater/images/Illinois River/Modern use/resize/7.jpg\n",
      "save path: /Users/jared/video-creater/images/Illinois River/Modern use/resize/6.jpg\n",
      "save path: /Users/jared/video-creater/images/Illinois River/Modern use/resize/2.jpg\n",
      "save path: /Users/jared/video-creater/images/Illinois River/Modern use/resize/3.jpg\n",
      "save path: /Users/jared/video-creater/images/Illinois River/Modern use/resize/1.jpg\n",
      "save path: /Users/jared/video-creater/images/Illinois River/Modern use/resize/0.jpg\n"
     ]
    }
   ],
   "source": [
    "WMM.process_images()"
   ]
  },
  {
   "cell_type": "code",
   "execution_count": 10,
   "metadata": {},
   "outputs": [],
   "source": [
    "WMM.make_narration()"
   ]
  },
  {
   "cell_type": "code",
   "execution_count": 11,
   "metadata": {},
   "outputs": [
    {
     "name": "stdout",
     "output_type": "stream",
     "text": [
      "['/Users/jared/video-creater/images/Illinois River/Illinois River/resize/8.jpg', '/Users/jared/video-creater/images/Illinois River/Illinois River/resize/9.jpg', '/Users/jared/video-creater/images/Illinois River/Illinois River/resize/12.jpg', '/Users/jared/video-creater/images/Illinois River/Illinois River/resize/13.jpg', '/Users/jared/video-creater/images/Illinois River/Illinois River/resize/11.jpg', '/Users/jared/video-creater/images/Illinois River/Illinois River/resize/4.jpg', '/Users/jared/video-creater/images/Illinois River/Illinois River/resize/5.jpg', '/Users/jared/video-creater/images/Illinois River/Illinois River/resize/7.jpg', '/Users/jared/video-creater/images/Illinois River/Illinois River/resize/6.jpg', '/Users/jared/video-creater/images/Illinois River/Illinois River/resize/3.jpg', '/Users/jared/video-creater/images/Illinois River/Illinois River/resize/1.jpg', '/Users/jared/video-creater/images/Illinois River/Illinois River/resize/0.jpg']\n",
      "[4, 4, 4, 4, 4, 4, 4, 4, 4, 4, 4, 4, 4, 4]\n",
      "Illinois River clip created!\n"
     ]
    }
   ],
   "source": [
    "WMM.cliplist = [WMM.create_clip(sd) for sd in WMM.script[:1]]"
   ]
  },
  {
   "cell_type": "code",
   "execution_count": 12,
   "metadata": {},
   "outputs": [],
   "source": [
    "WMM.cliplist[0].show()"
   ]
  },
  {
   "cell_type": "code",
   "execution_count": null,
   "metadata": {},
   "outputs": [],
   "source": []
  }
 ],
 "metadata": {
  "kernelspec": {
   "display_name": "Python 3",
   "language": "python",
   "name": "python3"
  },
  "language_info": {
   "codemirror_mode": {
    "name": "ipython",
    "version": 3
   },
   "file_extension": ".py",
   "mimetype": "text/x-python",
   "name": "python",
   "nbconvert_exporter": "python",
   "pygments_lexer": "ipython3",
   "version": "3.7.3"
  }
 },
 "nbformat": 4,
 "nbformat_minor": 2
}
