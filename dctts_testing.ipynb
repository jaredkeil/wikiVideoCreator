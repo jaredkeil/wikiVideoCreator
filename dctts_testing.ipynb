{
 "cells": [
  {
   "cell_type": "code",
   "execution_count": 2,
   "metadata": {},
   "outputs": [],
   "source": [
    "import os\n",
    "from pathlib import Path\n",
    "from collections import OrderedDict, namedtuple\n",
    "import time\n",
    "from datetime import datetime\n",
    "import codecs\n",
    "\n",
    "import wikipediaapi\n",
    "from moviepy.editor import *\n",
    "import gizeh as gz\n",
    "from gtts import gTTS\n",
    "from skimage.io import imread, imsave\n",
    "from skimage import transform\n",
    "from skimage.util import img_as_ubyte\n",
    "\n",
    "from image_downloader import master_download\n",
    "from im_funcs import maxsize_pad\n",
    "\n",
    "from synthesize import synthesize\n",
    "from hyperparams import Hyperparams as hp\n",
    "\n",
    "\n",
    "# Default Parameters\n",
    "WHITE = (255, 255, 255)\n",
    "BLACK = (0, 0, 0)\n",
    "WHITE_GIZEH = (1, 1, 1)\n",
    "BLACK_GIZEH = (0, 0, 0)\n",
    "\n",
    "VIDEO_SIZE = (1920, 1080)\n",
    "IMG_SHAPE = (1080, 1920)\n",
    "IMG_DISPLAY_DURATION = 4    #duration, in seconds, to display each image\n",
    "\n",
    "excluded_sections = {'See also', 'References', 'Further reading', 'External links',\n",
    "                'Formats and track listings', 'Credits and personnel', 'Charts',\n",
    "                'Certifications', 'Release history'}\n"
   ]
  },
  {
   "cell_type": "code",
   "execution_count": 4,
   "metadata": {},
   "outputs": [
    {
     "data": {
      "text/plain": [
       "'Bokmål'"
      ]
     },
     "execution_count": 4,
     "metadata": {},
     "output_type": "execute_result"
    }
   ],
   "source": [
    "wiki = wikipediaapi.Wikipedia('en')\n",
    "page = wiki.page('Bokmål')\n",
    "page.title"
   ]
  },
  {
   "cell_type": "markdown",
   "metadata": {},
   "source": [
    "### Workflow:\n",
    "\n",
    "- Initialize WikiMovie with page\n",
    "- Create txt file\n",
    "    - Title,\n",
    "    - Summary text,\n",
    "    - Section1 title,\n",
    "    - Section1 text, \n",
    "    - etc ....\n",
    "- Output all .wav speech files with synthesize function\n",
    "-  ... currently just name files 0.wav, 1.wav, 2 ....\n",
    "- Generate clips:\n",
    "    Possible output:\n",
    "    - textclip, imageseq with 0.wav (section with text to read)\n",
    "    - textclip with 1.wav (section without text)\n",
    "\n",
    "    \n",
    "Basically, will have to iterate through output samples directory (possibly with just index 'i' for filepath),\n",
    "and link them back with the text.\n",
    "\n",
    "If Section has no text, it's just a main header... ex: `{'History': '', 'Ancient times': 'blah blah...'}`\n",
    "\n",
    "Create textclip for 'History', set audio, and go on to next, e.g. 'Ancient times'\n",
    "\n",
    "If value at the key is not empty, create textclip as above, AND Image Sequence.\n",
    "\n",
    "For each item try to make one piece of audio continue through Textclip display and Image sequence if necessary.\n",
    "Maybe just set the section header durations to be a little long, like 3 secs. The actual paragraph may start in sooner but at least the audio won't get cutoff, and don't have to synthesize the section title audio separately on a different line of the text file.\n",
    "\n",
    "    \n",
    "|   audio ---------| ------------> |\n",
    "|----------------:|:--------------|\n",
    "| /Section title + |         Text/ |\n",
    "| TextClip         | ImageSequence |\n",
    "\n",
    "\n",
    "- Pass the dict into text file as `script[i]['title'] + '. ' + script[i]['text']`\n",
    "  \n",
    "  (notice the space after the period)\n",
    "  \n",
    "- Also process the script dictionary for creating "
   ]
  },
  {
   "cell_type": "code",
   "execution_count": 71,
   "metadata": {},
   "outputs": [],
   "source": [
    "class WikiMovie():\n",
    "    \"\"\"\n",
    "    Make movies in standard format (.mp4) from wikipedia pages.\n",
    "    Initialize with 'page' object from wikipedia Python module.\n",
    "    Primary user function is make_movie().\n",
    "    \"\"\"\n",
    "    def __init__(self, page, narrator='gtts'):\n",
    "        self.page = page\n",
    "        self.title = self.page._attributes['title']\n",
    "        self.narrator = narrator\n",
    "        self.script = [{'title': page.title, 'level': 0, 'text': page.summary}]\n",
    "        self.cliplist = []\n",
    "        \n",
    "        # self.p = Path(__file__).resolve().parents[1]\n",
    "        self.p = Path(os.path.abspath('')).resolve() ## For jupyter notebook\n",
    "        self._imgidx = 0\n",
    "        self.cutoff = None\n",
    "        \n",
    "\n",
    "    def _create_paths(self):\n",
    "        # Image directories\n",
    "        self.parent_images = self.p / 'images'\n",
    "        self.imgdir = self.p / 'images' / self.title\n",
    "        self.resizedir = self.imgdir / 'resize'\n",
    "        # gTTS audio directories\n",
    "        self.parent_audio = self.p / 'audio'\n",
    "        self.auddir = self.p / 'audio' / self.title\n",
    "        # dc_tts directory\n",
    "        self.dctts_dir = self.p / 'dc_tts'\n",
    "        self.dctts_in = self.dctts_dir / 'text_input'\n",
    "        self.dctts_out = self.dctts_dir / 'samples' / self.title\n",
    "        # URL lists text files directory\n",
    "        self.url_dir = self.p / 'url_files'\n",
    "        # Video directory (all article videos stored in folder, files named by title)\n",
    "        self.viddir = self.p / 'videos'\n",
    "        # Video save path\n",
    "        self.vidpath = self.viddir / (self.title + \".mp4\")\n",
    "\n",
    "        print('creating paths...')\n",
    "        for d in [self.parent_images, self.imgdir, self.resizedir,\\\n",
    "                self.parent_audio, self.auddir, self.dctts_dir,\\\n",
    "                self.dctts_in, self.dctts_out, self.url_dir, self.viddir]:\n",
    "            if not d.exists():\n",
    "                d.mkdir()\n",
    "                print(d, \"directory created\")\n",
    "            elif d.exists():\n",
    "                print(d, \"exists\")\n",
    "\n",
    "    def _resize_images(self):\n",
    "        self._imgpaths = []\n",
    "        contents = self.imgdir.glob('*')\n",
    "        fnames =  [x for x in contents if x.is_file() and x.parts[-1][0] != '.']\n",
    "        self.fixed_durations = [IMG_DISPLAY_DURATION for _ in fnames]\n",
    "        \n",
    "        n_imgs = len(fnames)\n",
    "        for i, fname in enumerate(fnames):\n",
    "            sys.stdout.write(f\"Resizing Images [{'#' * (i+1) + ' ' * (n_imgs-i-1)}]   \\r\")\n",
    "            sys.stdout.flush()\n",
    "            \n",
    "            path = str(self.imgdir / fname)\n",
    "            print(path)\n",
    "            save_path = str(self.resizedir / fname)\n",
    "            print(self.resizedir)\n",
    "            print(save_path)\n",
    "            try:\n",
    "                maxsize_pad(path, save_path)\n",
    "            except Exception:\n",
    "                continue\n",
    "            self._imgpaths.append(save_path)\n",
    "\n",
    "\n",
    "    def _make_narration(self, string, mp3path):\n",
    "        tts = gTTS(string)\n",
    "        tts.save(mp3path)\n",
    "        return AudioFileClip(mp3path)\n",
    "\n",
    "\n",
    "    def _add_ImageSequence(self, audioclip):\n",
    "        \"\"\"add image with soundtrack audioclip of narrated text\"\"\"\n",
    "        ### Cycle through images so it doesn't always start at the first one\n",
    "        tmp_imgpaths = self._imgpaths[self._imgidx:] + self._imgpaths[:self._imgidx]\n",
    "        self._imgidx += 1\n",
    "        image_sequence = ImageSequenceClip(sequence=tmp_imgpaths,\n",
    "                                durations=self.fixed_durations, load_images=True).\\\n",
    "                            set_position(('center', 400)).\\\n",
    "                            fx(vfx.loop, duration=audioclip.duration).\\\n",
    "                            set_audio(audioclip)\n",
    "        self.cliplist.append(image_sequence)\n",
    "\n",
    "\n",
    "    def _add_subsection(self, section, level):\n",
    "        \"\"\"\n",
    "        Add textclip of section titles.\n",
    "        If it's just a main header followed by subsections, NO image sequence.\n",
    "        If section contains text, create narratation and image sequence.\n",
    "        \"\"\"\n",
    "\n",
    "        mp3path_header = os.path.join(self.auddir, section.title + '_header.mp3')\n",
    "        ac_header = self._make_narration(section.title, mp3path_header)\n",
    "        fontsize = 130 - (30 * level) # higher level means deeper 'indentation'\n",
    "        tc_header = TextClip(section.title, color='white', fontsize=fontsize, \n",
    "                    size=VIDEO_SIZE, method='caption').\\\n",
    "                    set_audio(ac_header).set_duration(ac_header.duration)\n",
    "        self.cliplist.append(tc_header)\n",
    "        ## if there is an actual paragraph in the section, create an image sequence for it\n",
    "        if section.text:\n",
    "            mp3path_text = os.path.join(self.auddir, section.title + '_text.mp3')\n",
    "            ac_text = self._make_narration(section.text[:self.cutoff], mp3path_text)\n",
    "            self._add_ImageSequence(ac_text)\n",
    "\n",
    "        print(section.title, \"complete\")\n",
    "\n",
    "\n",
    "    def _flush_sections(self, sections, level=0):\n",
    "        \"\"\"\n",
    "        Get text from all levels (sections, subsections) in page order and generate narrations\n",
    "        \"\"\"\n",
    "        for s in sections:\n",
    "            if s.title in excluded_sections:\n",
    "                print('exluding')\n",
    "                continue\n",
    "            else:\n",
    "                self.script.append({'title':s.title, 'level': level+1, 'text': s.text})\n",
    "                # self._add_subsection(s, level) # clip creation\n",
    "                # recursion to next level. Once lowest level is reached, next main section will be accessed\n",
    "                self._flush_sections(s.sections, level+1)\n",
    "\n",
    "\n",
    "    def _flush_page(self):\n",
    "        pass\n",
    "        # add main title and summary    \n",
    "#         mp3path_title = os.path.join(self.auddir, self.title + '_title.mp3')\n",
    "#         ac_title = self._make_narration(self.title, mp3path_title)\n",
    "#         tc_title = TextClip(self.title, color='white', fontsize=150, \n",
    "#                     size=VIDEO_SIZE, method='caption').\\\n",
    "#                     set_audio(ac_title).set_duration(ac_title.duration)\n",
    "#         self.cliplist.append(tc_title)\n",
    "        \n",
    "#         mp3path_summary = os.path.join(self.auddir, self.title + '_summary.mp3')\n",
    "#         ac_summary = self._make_narration(self.page.summary[:self.cutoff], mp3path_summary)\n",
    "#         self._add_ImageSequence(ac_summary)\n",
    "#         print('Title and Summary complete')\n",
    "\n",
    "        # create clips for rest of sections\n",
    "#         self._flush_sections(self.page.sections)\n",
    "        \n",
    "        \n",
    "                             \n",
    "    def make_text_file(self):\n",
    "        \"\"\"\n",
    "        List of text. All \n",
    "        \"\"\"\n",
    "        self._flush_sections(self.page.sections)\n",
    "                      \n",
    "        self.sent_path = self.dctts_in / f\"{self.title}.txt\"\n",
    "        with self.sent_path.open('w') as sf:\n",
    "            sf.write(f\"Script for Wikipedia article {self.title}\\n\")\n",
    "            for d in self.script[:1]: \n",
    "                sf.write(f\"{d['title']}. {d['text'].split('.')}\\n\")\n",
    "\n",
    "    def make_movie(self, cutoff=None):\n",
    "        \"\"\"\n",
    "        Args:\n",
    "            cutoff (int): Limit the length of the script. Used like script[:cutoff]\n",
    "        Returns:\n",
    "            None\n",
    "        \"\"\"\n",
    "        print(\"Video Title: \", self.title)\n",
    "        self.cutoff = cutoff\n",
    "        self._create_paths()\n",
    "\n",
    "        # Download and resize images\n",
    "        master_download(main_keyword=self.title, url_dir=self.url_dir,\n",
    "                        img_dir=self.imgdir, num_requested=100)\n",
    "        self._resize_images()\n",
    "        print('\\n') \n",
    "\n",
    "        # Create Video Clips\n",
    "        print(\"Creating clips. . .\")\n",
    "        self._flush_page()\n",
    "\n",
    "        thanks = TextClip(\"Thanks for watching \\n and listening\",\n",
    "                            color='white', fontsize=72, size=VIDEO_SIZE, method='caption').\\\n",
    "                            set_duration(2)\n",
    "\n",
    "        subscribe = TextClip(\"Please Subscribe!\",\n",
    "                                color='white', fontsize=72, size=VIDEO_SIZE, method='caption').\\\n",
    "                                set_duration(2)\n",
    "\n",
    "        self.video = concatenate_videoclips(self.cliplist + [thanks, subscribe],\n",
    "                                            method='compose').\\\n",
    "                                            on_color(color=BLACK, col_opacity=1)\n",
    "        # Encode Video\n",
    "        start = datetime.now()\n",
    "        self.video.write_videofile(str(self.vidpath) , fps=1, codec='mpeg4', \n",
    "                                    audio_codec=\"aac\", preset='ultrafast')\n",
    "        dur = datetime.now() - start\n",
    "        print(\"Video Encoding completed in time: \", dur)\n",
    "\n",
    "        # self.audio_clip.close()\n",
    "        # title_text.close()\n",
    "        thanks.close()\n",
    "        subscribe.close()\n",
    "        self.video.close()\n",
    "        "
   ]
  },
  {
   "cell_type": "code",
   "execution_count": 72,
   "metadata": {},
   "outputs": [],
   "source": [
    "WMM = WikiMovie(page)"
   ]
  },
  {
   "cell_type": "code",
   "execution_count": 73,
   "metadata": {},
   "outputs": [
    {
     "name": "stdout",
     "output_type": "stream",
     "text": [
      "creating paths...\n",
      "/Users/jared/video-creater/images exists\n",
      "/Users/jared/video-creater/images/Bokmål exists\n",
      "/Users/jared/video-creater/images/Bokmål/resize exists\n",
      "/Users/jared/video-creater/audio exists\n",
      "/Users/jared/video-creater/audio/Bokmål exists\n",
      "/Users/jared/video-creater/dc_tts exists\n",
      "/Users/jared/video-creater/dc_tts/text_input exists\n",
      "/Users/jared/video-creater/dc_tts/samples/Bokmål exists\n",
      "/Users/jared/video-creater/url_files exists\n",
      "/Users/jared/video-creater/videos exists\n"
     ]
    }
   ],
   "source": [
    "WMM._create_paths()"
   ]
  },
  {
   "cell_type": "code",
   "execution_count": 74,
   "metadata": {},
   "outputs": [
    {
     "name": "stdout",
     "output_type": "stream",
     "text": [
      "exluding\n"
     ]
    }
   ],
   "source": [
    "WMM._flush_sections(page.sections)"
   ]
  },
  {
   "cell_type": "code",
   "execution_count": 75,
   "metadata": {
    "scrolled": true
   },
   "outputs": [
    {
     "data": {
      "text/plain": [
       "{'title': 'Bokmål',\n",
       " 'level': 0,\n",
       " 'text': 'Bokmål (UK: , US: ; literally \"book tongue\") is an official written standard for the Norwegian language, alongside Nynorsk. Bokmål is the preferred written standard of Norwegian for 85% to 90% of the population in Norway. Unlike, for instance, the Italian language, there is no nationwide standard or agreement on the pronunciation of Bokmål.\\nBokmål is regulated by the governmental Norwegian Language Council. A more conservative orthographic standard, commonly known as Riksmål, is regulated by the non-governmental Norwegian Academy for Language and Literature. The written standard is a Norwegianised variety of the Danish language.\\nThe first Bokmål orthography was officially adopted in 1907 under the name Riksmål after being under development since 1879. The architects behind the reform were Marius Nygaard and Jacob Jonathan Aars. It was an adaptation of written Danish, which was commonly used since the past union with Denmark, to the Dano-Norwegian koiné spoken by the Norwegian urban elite, especially in the capital. When the large conservative newspaper Aftenposten adopted the 1907 orthography in 1923, Danish writing was practically out of use in Norway. The name Bokmål was officially adopted in 1929 after a proposition to call the written language Dano-Norwegian lost by a single vote in the Lagting (a chamber in the Norwegian parliament).The government does not regulate spoken Bokmål and recommends that normalised pronunciation should follow the phonology of the speaker\\'s local dialect. Nevertheless, there is a spoken variety of Norwegian that, in the region of South-Eastern Norway, is commonly seen as the de facto standard for spoken Bokmål. In The Phonology of Norwegian, Gjert Kristoffersen writes that\\n\\nBokmål [...] is in its most common variety looked upon as reflecting formal middle-class urban speech, especially that found in the eastern part of Southern Norway [sic], with the capital Oslo as the obvious centre. One can therefore say that Bokmål has a spoken realisation that one might call an unofficial standard spoken Norwegian. It is in fact often referred to as Standard Østnorsk (\\'Standard East Norwegian\\').\\nStandard Østnorsk (Standard East Norwegian) is the pronunciation most commonly given in dictionaries and taught to foreigners in Norwegian language classes. Standard Østnorsk as a spoken language is not used and does not have any particular prestige outside South-Eastern Norway. All spoken variations of the Norwegian language are used e.g. in the Storting and in Norwegian national broadcasters such as NRK and TV 2, even in cases where the conventions of Bokmål are used. The spoken variation typically reflects the region the person grew up in.'}"
      ]
     },
     "execution_count": 75,
     "metadata": {},
     "output_type": "execute_result"
    }
   ],
   "source": [
    "WMM.script[0]"
   ]
  },
  {
   "cell_type": "code",
   "execution_count": 76,
   "metadata": {},
   "outputs": [
    {
     "name": "stdout",
     "output_type": "stream",
     "text": [
      "exluding\n"
     ]
    }
   ],
   "source": [
    "WMM.make_text_file()"
   ]
  },
  {
   "cell_type": "code",
   "execution_count": 77,
   "metadata": {},
   "outputs": [],
   "source": [
    "hp.test_data = str(WMM.sent_path)\n",
    "hp.sampledir = str(WMM.dctts_out)"
   ]
  },
  {
   "cell_type": "code",
   "execution_count": 78,
   "metadata": {},
   "outputs": [
    {
     "data": {
      "text/plain": [
       "'/Users/jared/video-creater/dc_tts/text_input/Bokmål.txt'"
      ]
     },
     "execution_count": 78,
     "metadata": {},
     "output_type": "execute_result"
    }
   ],
   "source": [
    "hp.test_data"
   ]
  },
  {
   "cell_type": "code",
   "execution_count": 79,
   "metadata": {},
   "outputs": [
    {
     "data": {
      "text/plain": [
       "'/Users/jared/video-creater/dc_tts/samples/Bokmål'"
      ]
     },
     "execution_count": 79,
     "metadata": {},
     "output_type": "execute_result"
    }
   ],
   "source": [
    "hp.sampledir"
   ]
  },
  {
   "cell_type": "code",
   "execution_count": 80,
   "metadata": {},
   "outputs": [],
   "source": [
    "lines = codecs.open(WMM.sent_path, 'r', 'utf-8').readlines()[1:]"
   ]
  },
  {
   "cell_type": "code",
   "execution_count": 81,
   "metadata": {},
   "outputs": [
    {
     "data": {
      "text/plain": [
       "['Bokmål. [\\'Bokmål (UK: , US: ; literally \"book tongue\") is an official written standard for the Norwegian language, alongside Nynorsk\\', \\' Bokmål is the preferred written standard of Norwegian for 85% to 90% of the population in Norway\\', \\' Unlike, for instance, the Italian language, there is no nationwide standard or agreement on the pronunciation of Bokmål\\', \\'\\\\nBokmål is regulated by the governmental Norwegian Language Council\\', \\' A more conservative orthographic standard, commonly known as Riksmål, is regulated by the non-governmental Norwegian Academy for Language and Literature\\', \\' The written standard is a Norwegianised variety of the Danish language\\', \\'\\\\nThe first Bokmål orthography was officially adopted in 1907 under the name Riksmål after being under development since 1879\\', \\' The architects behind the reform were Marius Nygaard and Jacob Jonathan Aars\\', \\' It was an adaptation of written Danish, which was commonly used since the past union with Denmark, to the Dano-Norwegian koiné spoken by the Norwegian urban elite, especially in the capital\\', \\' When the large conservative newspaper Aftenposten adopted the 1907 orthography in 1923, Danish writing was practically out of use in Norway\\', \\' The name Bokmål was officially adopted in 1929 after a proposition to call the written language Dano-Norwegian lost by a single vote in the Lagting (a chamber in the Norwegian parliament)\\', \"The government does not regulate spoken Bokmål and recommends that normalised pronunciation should follow the phonology of the speaker\\'s local dialect\", \\' Nevertheless, there is a spoken variety of Norwegian that, in the region of South-Eastern Norway, is commonly seen as the de facto standard for spoken Bokmål\\', \\' In The Phonology of Norwegian, Gjert Kristoffersen writes that\\\\n\\\\nBokmål [\\', \\'\\', \\'\\', \\'] is in its most common variety looked upon as reflecting formal middle-class urban speech, especially that found in the eastern part of Southern Norway [sic], with the capital Oslo as the obvious centre\\', \\' One can therefore say that Bokmål has a spoken realisation that one might call an unofficial standard spoken Norwegian\\', \" It is in fact often referred to as Standard Østnorsk (\\'Standard East Norwegian\\')\", \\'\\\\nStandard Østnorsk (Standard East Norwegian) is the pronunciation most commonly given in dictionaries and taught to foreigners in Norwegian language classes\\', \\' Standard Østnorsk as a spoken language is not used and does not have any particular prestige outside South-Eastern Norway\\', \\' All spoken variations of the Norwegian language are used e\\', \\'g\\', \\' in the Storting and in Norwegian national broadcasters such as NRK and TV 2, even in cases where the conventions of Bokmål are used\\', \\' The spoken variation typically reflects the region the person grew up in\\', \\'\\']\\n']"
      ]
     },
     "execution_count": 81,
     "metadata": {},
     "output_type": "execute_result"
    }
   ],
   "source": [
    "lines"
   ]
  },
  {
   "cell_type": "code",
   "execution_count": 82,
   "metadata": {},
   "outputs": [
    {
     "ename": "ValueError",
     "evalue": "cannot copy sequence with size 2681 to array axis with dimension 180",
     "output_type": "error",
     "traceback": [
      "\u001b[0;31m---------------------------------------------------------------------------\u001b[0m",
      "\u001b[0;31mValueError\u001b[0m                                Traceback (most recent call last)",
      "\u001b[0;32m<ipython-input-82-3ab4b6f08561>\u001b[0m in \u001b[0;36m<module>\u001b[0;34m\u001b[0m\n\u001b[0;32m----> 1\u001b[0;31m \u001b[0msynthesize\u001b[0m\u001b[0;34m(\u001b[0m\u001b[0;34m)\u001b[0m\u001b[0;34m\u001b[0m\u001b[0;34m\u001b[0m\u001b[0m\n\u001b[0m",
      "\u001b[0;32m~/video-creater/synthesize.py\u001b[0m in \u001b[0;36msynthesize\u001b[0;34m()\u001b[0m\n\u001b[1;32m     21\u001b[0m \u001b[0;32mdef\u001b[0m \u001b[0msynthesize\u001b[0m\u001b[0;34m(\u001b[0m\u001b[0;34m)\u001b[0m\u001b[0;34m:\u001b[0m\u001b[0;34m\u001b[0m\u001b[0;34m\u001b[0m\u001b[0m\n\u001b[1;32m     22\u001b[0m     \u001b[0;31m# Load data\u001b[0m\u001b[0;34m\u001b[0m\u001b[0;34m\u001b[0m\u001b[0;34m\u001b[0m\u001b[0m\n\u001b[0;32m---> 23\u001b[0;31m     \u001b[0mL\u001b[0m \u001b[0;34m=\u001b[0m \u001b[0mload_data\u001b[0m\u001b[0;34m(\u001b[0m\u001b[0;34m\"synthesize\"\u001b[0m\u001b[0;34m)\u001b[0m\u001b[0;34m\u001b[0m\u001b[0;34m\u001b[0m\u001b[0m\n\u001b[0m\u001b[1;32m     24\u001b[0m \u001b[0;34m\u001b[0m\u001b[0m\n\u001b[1;32m     25\u001b[0m     \u001b[0;31m# Load graph\u001b[0m\u001b[0;34m\u001b[0m\u001b[0;34m\u001b[0m\u001b[0;34m\u001b[0m\u001b[0m\n",
      "\u001b[0;32m~/video-creater/data_load.py\u001b[0m in \u001b[0;36mload_data\u001b[0;34m(mode)\u001b[0m\n\u001b[1;32m     83\u001b[0m         \u001b[0mtexts\u001b[0m \u001b[0;34m=\u001b[0m \u001b[0mnp\u001b[0m\u001b[0;34m.\u001b[0m\u001b[0mzeros\u001b[0m\u001b[0;34m(\u001b[0m\u001b[0;34m(\u001b[0m\u001b[0mlen\u001b[0m\u001b[0;34m(\u001b[0m\u001b[0msents\u001b[0m\u001b[0;34m)\u001b[0m\u001b[0;34m,\u001b[0m \u001b[0mhp\u001b[0m\u001b[0;34m.\u001b[0m\u001b[0mmax_N\u001b[0m\u001b[0;34m)\u001b[0m\u001b[0;34m,\u001b[0m \u001b[0mnp\u001b[0m\u001b[0;34m.\u001b[0m\u001b[0mint32\u001b[0m\u001b[0;34m)\u001b[0m\u001b[0;34m\u001b[0m\u001b[0;34m\u001b[0m\u001b[0m\n\u001b[1;32m     84\u001b[0m         \u001b[0;32mfor\u001b[0m \u001b[0mi\u001b[0m\u001b[0;34m,\u001b[0m \u001b[0msent\u001b[0m \u001b[0;32min\u001b[0m \u001b[0menumerate\u001b[0m\u001b[0;34m(\u001b[0m\u001b[0msents\u001b[0m\u001b[0;34m)\u001b[0m\u001b[0;34m:\u001b[0m\u001b[0;34m\u001b[0m\u001b[0;34m\u001b[0m\u001b[0m\n\u001b[0;32m---> 85\u001b[0;31m             \u001b[0mtexts\u001b[0m\u001b[0;34m[\u001b[0m\u001b[0mi\u001b[0m\u001b[0;34m,\u001b[0m \u001b[0;34m:\u001b[0m\u001b[0mlen\u001b[0m\u001b[0;34m(\u001b[0m\u001b[0msent\u001b[0m\u001b[0;34m)\u001b[0m\u001b[0;34m]\u001b[0m \u001b[0;34m=\u001b[0m \u001b[0;34m[\u001b[0m\u001b[0mchar2idx\u001b[0m\u001b[0;34m[\u001b[0m\u001b[0mchar\u001b[0m\u001b[0;34m]\u001b[0m \u001b[0;32mfor\u001b[0m \u001b[0mchar\u001b[0m \u001b[0;32min\u001b[0m \u001b[0msent\u001b[0m\u001b[0;34m]\u001b[0m\u001b[0;34m\u001b[0m\u001b[0;34m\u001b[0m\u001b[0m\n\u001b[0m\u001b[1;32m     86\u001b[0m         \u001b[0;32mreturn\u001b[0m \u001b[0mtexts\u001b[0m\u001b[0;34m\u001b[0m\u001b[0;34m\u001b[0m\u001b[0m\n\u001b[1;32m     87\u001b[0m \u001b[0;34m\u001b[0m\u001b[0m\n",
      "\u001b[0;31mValueError\u001b[0m: cannot copy sequence with size 2681 to array axis with dimension 180"
     ]
    }
   ],
   "source": [
    "synthesize()"
   ]
  },
  {
   "cell_type": "code",
   "execution_count": null,
   "metadata": {},
   "outputs": [],
   "source": []
  },
  {
   "cell_type": "code",
   "execution_count": null,
   "metadata": {},
   "outputs": [],
   "source": []
  },
  {
   "cell_type": "code",
   "execution_count": null,
   "metadata": {},
   "outputs": [],
   "source": []
  },
  {
   "cell_type": "code",
   "execution_count": null,
   "metadata": {},
   "outputs": [],
   "source": [
    "vars(hp)"
   ]
  },
  {
   "cell_type": "code",
   "execution_count": null,
   "metadata": {},
   "outputs": [],
   "source": []
  }
 ],
 "metadata": {
  "kernelspec": {
   "display_name": "Python 3",
   "language": "python",
   "name": "python3"
  },
  "language_info": {
   "codemirror_mode": {
    "name": "ipython",
    "version": 3
   },
   "file_extension": ".py",
   "mimetype": "text/x-python",
   "name": "python",
   "nbconvert_exporter": "python",
   "pygments_lexer": "ipython3",
   "version": "3.7.3"
  }
 },
 "nbformat": 4,
 "nbformat_minor": 2
}
