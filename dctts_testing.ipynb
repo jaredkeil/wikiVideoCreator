{
 "cells": [
  {
   "cell_type": "code",
   "execution_count": 144,
   "metadata": {},
   "outputs": [],
   "source": [
    "import os\n",
    "from pathlib import Path\n",
    "from collections import OrderedDict, namedtuple\n",
    "import time\n",
    "from datetime import datetime\n",
    "import codecs\n",
    "from textwrap import wrap\n",
    "\n",
    "import wikipediaapi\n",
    "from moviepy.editor import *\n",
    "import gizeh as gz\n",
    "from gtts import gTTS\n",
    "from skimage.io import imread, imsave\n",
    "from skimage import transform\n",
    "from skimage.util import img_as_ubyte\n",
    "\n",
    "from image_downloader import master_download\n",
    "from im_funcs import maxsize_pad\n",
    "\n",
    "from synthesize import synthesize\n",
    "from hyperparams import Hyperparams as hp\n",
    "from data_load import *\n",
    "\n",
    "\n",
    "# Default Parameters\n",
    "WHITE = (255, 255, 255)\n",
    "BLACK = (0, 0, 0)\n",
    "WHITE_GIZEH = (1, 1, 1)\n",
    "BLACK_GIZEH = (0, 0, 0)\n",
    "\n",
    "VIDEO_SIZE = (1920, 1080)\n",
    "IMG_SHAPE = (1080, 1920)\n",
    "IMG_DISPLAY_DURATION = 4    #duration, in seconds, to display each image\n",
    "\n",
    "excluded_sections = {'See also', 'References', 'Further reading', 'External links',\n",
    "                'Formats and track listings', 'Credits and personnel', 'Charts',\n",
    "                'Certifications', 'Release history'}\n"
   ]
  },
  {
   "cell_type": "code",
   "execution_count": 4,
   "metadata": {},
   "outputs": [
    {
     "data": {
      "text/plain": [
       "'Bokmål'"
      ]
     },
     "execution_count": 4,
     "metadata": {},
     "output_type": "execute_result"
    }
   ],
   "source": [
    "wiki = wikipediaapi.Wikipedia('en')\n",
    "page = wiki.page('Bokmål')\n",
    "page.title"
   ]
  },
  {
   "cell_type": "markdown",
   "metadata": {},
   "source": [
    "### Workflow:\n",
    "\n",
    "- Initialize WikiMovie with page\n",
    "- Create txt file\n",
    "    - Title,\n",
    "    - Summary text,\n",
    "    - Section1 title,\n",
    "    - Section1 text, \n",
    "    - etc ....\n",
    "- Output all .wav speech files with synthesize function\n",
    "-  ... currently just name files 0.wav, 1.wav, 2 ....\n",
    "- Generate clips:\n",
    "    Possible output:\n",
    "    - textclip, imageseq with 0.wav (section with text to read)\n",
    "    - textclip with 1.wav (section without text)\n",
    "\n",
    "    \n",
    "Basically, will have to iterate through output samples directory (possibly with just index 'i' for filepath),\n",
    "and link them back with the text.\n",
    "\n",
    "If Section has no text, it's just a main header... ex: `{'History': '', 'Ancient times': 'blah blah...'}`\n",
    "\n",
    "Create textclip for 'History', set audio, and go on to next, e.g. 'Ancient times'\n",
    "\n",
    "If value at the key is not empty, create textclip as above, AND Image Sequence.\n",
    "\n",
    "For each item try to make one piece of audio continue through Textclip display and Image sequence if necessary.\n",
    "Maybe just set the section header durations to be a little long, like 3 secs. The actual paragraph may start in sooner but at least the audio won't get cutoff, and don't have to synthesize the section title audio separately on a different line of the text file.\n",
    "\n",
    "    \n",
    "|   audio ---------| ------------> |\n",
    "|----------------:|:--------------|\n",
    "| /Section title + |         Text/ |\n",
    "| TextClip         | ImageSequence |\n",
    "\n",
    "\n",
    "- Pass the dict into text file as `script[i]['title'] + '. ' + script[i]['text']`\n",
    "  \n",
    "  (notice the space after the period)\n",
    "  \n",
    "- Also process the script dictionary for creating "
   ]
  },
  {
   "cell_type": "code",
   "execution_count": 145,
   "metadata": {},
   "outputs": [],
   "source": [
    "class WikiMovie():\n",
    "    \"\"\"\n",
    "    Make movies in standard format (.mp4) from wikipedia pages.\n",
    "    Initialize with 'page' object from wikipedia Python module.\n",
    "    Primary user function is make_movie().\n",
    "    \"\"\"\n",
    "    def __init__(self, page, narrator='gtts'):\n",
    "        self.page = page\n",
    "        self.title = self.page._attributes['title']\n",
    "        self.narrator = narrator\n",
    "        self.script = [{'title': page.title, 'level': 0, 'text': page.summary}]\n",
    "        self.cliplist = []\n",
    "        \n",
    "        # self.p = Path(__file__).resolve().parents[1]\n",
    "        self.p = Path(os.path.abspath('')).resolve() ## For jupyter notebook\n",
    "        self._imgidx = 0\n",
    "        self.cutoff = None\n",
    "        \n",
    "\n",
    "    def _create_paths(self):\n",
    "        # Image directories\n",
    "        self.parent_images = self.p / 'images'\n",
    "        self.imgdir = self.p / 'images' / self.title\n",
    "        self.resizedir = self.imgdir / 'resize'\n",
    "        # gTTS audio directories\n",
    "        self.parent_audio = self.p / 'audio'\n",
    "        self.auddir = self.p / 'audio' / self.title\n",
    "        # dc_tts directory\n",
    "        self.dctts_dir = self.p / 'dc_tts'\n",
    "        self.dctts_in = self.dctts_dir / 'text_input'\n",
    "        self.dctts_out = self.dctts_dir / 'samples' / self.title\n",
    "        # URL lists text files directory\n",
    "        self.url_dir = self.p / 'url_files'\n",
    "        # Video directory (all article videos stored in folder, files named by title)\n",
    "        self.viddir = self.p / 'videos'\n",
    "        # Video save path\n",
    "        self.vidpath = self.viddir / (self.title + \".mp4\")\n",
    "\n",
    "        print('creating paths...')\n",
    "        for d in [self.parent_images, self.imgdir, self.resizedir,\\\n",
    "                self.parent_audio, self.auddir, self.dctts_dir,\\\n",
    "                self.dctts_in, self.dctts_out, self.url_dir, self.viddir]:\n",
    "            if not d.exists():\n",
    "                d.mkdir()\n",
    "                print(d, \"directory created\")\n",
    "            elif d.exists():\n",
    "                print(d, \"exists\")\n",
    "\n",
    "    def _resize_images(self):\n",
    "        self._imgpaths = []\n",
    "        contents = self.imgdir.glob('*')\n",
    "        fnames =  [x for x in contents if x.is_file() and x.parts[-1][0] != '.']\n",
    "        self.fixed_durations = [IMG_DISPLAY_DURATION for _ in fnames]\n",
    "        \n",
    "        n_imgs = len(fnames)\n",
    "        for i, fname in enumerate(fnames):\n",
    "            sys.stdout.write(f\"Resizing Images [{'#' * (i+1) + ' ' * (n_imgs-i-1)}]   \\r\")\n",
    "            sys.stdout.flush()\n",
    "            \n",
    "            path = str(self.imgdir / fname)\n",
    "            print(path)\n",
    "            save_path = str(self.resizedir / fname)\n",
    "            print(self.resizedir)\n",
    "            print(save_path)\n",
    "            try:\n",
    "                maxsize_pad(path, save_path)\n",
    "            except Exception:\n",
    "                continue\n",
    "            self._imgpaths.append(save_path)\n",
    "\n",
    "\n",
    "    def _make_narration(self, string, mp3path):\n",
    "        tts = gTTS(string)\n",
    "        tts.save(mp3path)\n",
    "        return AudioFileClip(mp3path)\n",
    "\n",
    "\n",
    "    def _add_ImageSequence(self, audioclip):\n",
    "        \"\"\"add image with soundtrack audioclip of narrated text\"\"\"\n",
    "        ### Cycle through images so it doesn't always start at the first one\n",
    "        tmp_imgpaths = self._imgpaths[self._imgidx:] + self._imgpaths[:self._imgidx]\n",
    "        self._imgidx += 1\n",
    "        image_sequence = ImageSequenceClip(sequence=tmp_imgpaths,\n",
    "                                durations=self.fixed_durations, load_images=True).\\\n",
    "                            set_position(('center', 400)).\\\n",
    "                            fx(vfx.loop, duration=audioclip.duration).\\\n",
    "                            set_audio(audioclip)\n",
    "        self.cliplist.append(image_sequence)\n",
    "\n",
    "\n",
    "    def _add_subsection(self, section, level):\n",
    "        \"\"\"\n",
    "        Add textclip of section titles.\n",
    "        If it's just a main header followed by subsections, NO image sequence.\n",
    "        If section contains text, create narratation and image sequence.\n",
    "        \"\"\"\n",
    "\n",
    "        mp3path_header = os.path.join(self.auddir, section.title + '_header.mp3')\n",
    "        ac_header = self._make_narration(section.title, mp3path_header)\n",
    "        fontsize = 130 - (30 * level) # higher level means deeper 'indentation'\n",
    "        tc_header = TextClip(section.title, color='white', fontsize=fontsize, \n",
    "                    size=VIDEO_SIZE, method='caption').\\\n",
    "                    set_audio(ac_header).set_duration(ac_header.duration)\n",
    "        self.cliplist.append(tc_header)\n",
    "        ## if there is an actual paragraph in the section, create an image sequence for it\n",
    "        if section.text:\n",
    "            mp3path_text = os.path.join(self.auddir, section.title + '_text.mp3')\n",
    "            ac_text = self._make_narration(section.text[:self.cutoff], mp3path_text)\n",
    "            self._add_ImageSequence(ac_text)\n",
    "\n",
    "        print(section.title, \"complete\")\n",
    "\n",
    "\n",
    "    def _flush_sections(self, sections, level=0):\n",
    "        \"\"\"\n",
    "        Get text from all levels (sections, subsections) in page order and generate narrations\n",
    "        \"\"\"\n",
    "        for s in sections:\n",
    "            if s.title in excluded_sections:\n",
    "                print('exluding')\n",
    "                continue\n",
    "            else:\n",
    "                self.script.append({'title':s.title, 'level': level+1, 'text': s.text})\n",
    "                # self._add_subsection(s, level) # clip creation\n",
    "                # recursion to next level. Once lowest level is reached, next main section will be accessed\n",
    "                self._flush_sections(s.sections, level+1)\n",
    "\n",
    "\n",
    "    def _flush_page(self):\n",
    "        pass\n",
    "        # add main title and summary    \n",
    "#         mp3path_title = os.path.join(self.auddir, self.title + '_title.mp3')\n",
    "#         ac_title = self._make_narration(self.title, mp3path_title)\n",
    "#         tc_title = TextClip(self.title, color='white', fontsize=150, \n",
    "#                     size=VIDEO_SIZE, method='caption').\\\n",
    "#                     set_audio(ac_title).set_duration(ac_title.duration)\n",
    "#         self.cliplist.append(tc_title)\n",
    "        \n",
    "#         mp3path_summary = os.path.join(self.auddir, self.title + '_summary.mp3')\n",
    "#         ac_summary = self._make_narration(self.page.summary[:self.cutoff], mp3path_summary)\n",
    "#         self._add_ImageSequence(ac_summary)\n",
    "#         print('Title and Summary complete')\n",
    "\n",
    "        # create clips for rest of sections\n",
    "#         self._flush_sections(self.page.sections)\n",
    "        \n",
    "        \n",
    "                             \n",
    "    def make_text_file(self):\n",
    "        \"\"\"\n",
    "        List of text. All \n",
    "        \"\"\"\n",
    "        self._flush_sections(self.page.sections)\n",
    "                      \n",
    "        self.sent_path = self.dctts_in / f\"{self.title}.txt\"\n",
    "                             \n",
    "        with self.sent_path.open('w') as sf:\n",
    "            sf.write(f\"Script for Wikipedia article {self.title}\\n\")\n",
    "                             \n",
    "            for d in self.script[:None]:\n",
    "                # {'title': section title, 'level': level, 'text': section text}\n",
    "                # break section down into 180 character chunks            \n",
    "                s = d['title'] + d['text']\n",
    "                seg_text = wrap(s, hp.max_N) # Split script every 180 chars\n",
    "                for i, seg in enumerate(seg_text):\n",
    "                             \n",
    "                    sf.write(f\"{d['title']}:{i} {seg}\\n\")\n",
    "\n",
    "                         \n",
    "    def make_movie(self, cutoff=None):\n",
    "        \"\"\"\n",
    "        Args:\n",
    "            cutoff (int): Limit the length of the script. Used like script[:cutoff]\n",
    "        Returns:\n",
    "            None\n",
    "        \"\"\"\n",
    "        print(\"Video Title: \", self.title)\n",
    "        self.cutoff = cutoff\n",
    "        self._create_paths()\n",
    "\n",
    "        # Download and resize images\n",
    "        master_download(main_keyword=self.title, url_dir=self.url_dir,\n",
    "                        img_dir=self.imgdir, num_requested=100)\n",
    "        self._resize_images()\n",
    "        print('\\n') \n",
    "\n",
    "        # Create Video Clips\n",
    "        print(\"Creating clips. . .\")\n",
    "        self._flush_page()\n",
    "\n",
    "        thanks = TextClip(\"Thanks for watching \\n and listening\",\n",
    "                            color='white', fontsize=72, size=VIDEO_SIZE, method='caption').\\\n",
    "                            set_duration(2)\n",
    "\n",
    "        subscribe = TextClip(\"Please Subscribe!\",\n",
    "                                color='white', fontsize=72, size=VIDEO_SIZE, method='caption').\\\n",
    "                                set_duration(2)\n",
    "\n",
    "        self.video = concatenate_videoclips(self.cliplist + [thanks, subscribe],\n",
    "                                            method='compose').\\\n",
    "                                            on_color(color=BLACK, col_opacity=1)\n",
    "        # Encode Video\n",
    "        start = datetime.now()\n",
    "        self.video.write_videofile(str(self.vidpath) , fps=1, codec='mpeg4', \n",
    "                                    audio_codec=\"aac\", preset='ultrafast')\n",
    "        dur = datetime.now() - start\n",
    "        print(\"Video Encoding completed in time: \", dur)\n",
    "\n",
    "        # self.audio_clip.close()\n",
    "        # title_text.close()\n",
    "        thanks.close()\n",
    "        subscribe.close()\n",
    "        self.video.close()\n",
    "        "
   ]
  },
  {
   "cell_type": "code",
   "execution_count": 146,
   "metadata": {},
   "outputs": [],
   "source": [
    "WMM = WikiMovie(page)"
   ]
  },
  {
   "cell_type": "code",
   "execution_count": 147,
   "metadata": {},
   "outputs": [
    {
     "name": "stdout",
     "output_type": "stream",
     "text": [
      "creating paths...\n",
      "/Users/jared/video-creater/images exists\n",
      "/Users/jared/video-creater/images/Bokmål exists\n",
      "/Users/jared/video-creater/images/Bokmål/resize exists\n",
      "/Users/jared/video-creater/audio exists\n",
      "/Users/jared/video-creater/audio/Bokmål exists\n",
      "/Users/jared/video-creater/dc_tts exists\n",
      "/Users/jared/video-creater/dc_tts/text_input exists\n",
      "/Users/jared/video-creater/dc_tts/samples/Bokmål exists\n",
      "/Users/jared/video-creater/url_files exists\n",
      "/Users/jared/video-creater/videos exists\n"
     ]
    }
   ],
   "source": [
    "WMM._create_paths()"
   ]
  },
  {
   "cell_type": "code",
   "execution_count": 148,
   "metadata": {},
   "outputs": [
    {
     "name": "stdout",
     "output_type": "stream",
     "text": [
      "exluding\n",
      "exluding\n"
     ]
    }
   ],
   "source": [
    "WMM._flush_sections(page.sections)\n",
    "WMM.make_text_file()\n",
    "hp.test_data = str(WMM.sent_path)\n",
    "hp.sampledir = str(WMM.dctts_out)"
   ]
  },
  {
   "cell_type": "code",
   "execution_count": 149,
   "metadata": {},
   "outputs": [
    {
     "data": {
      "text/plain": [
       "'/Users/jared/video-creater/dc_tts/text_input/Bokmål.txt'"
      ]
     },
     "execution_count": 149,
     "metadata": {},
     "output_type": "execute_result"
    }
   ],
   "source": [
    "hp.test_data"
   ]
  },
  {
   "cell_type": "code",
   "execution_count": 150,
   "metadata": {},
   "outputs": [
    {
     "data": {
      "text/plain": [
       "'/Users/jared/video-creater/dc_tts/samples/Bokmål'"
      ]
     },
     "execution_count": 150,
     "metadata": {},
     "output_type": "execute_result"
    }
   ],
   "source": [
    "hp.sampledir"
   ]
  },
  {
   "cell_type": "code",
   "execution_count": 151,
   "metadata": {},
   "outputs": [],
   "source": [
    "lines = codecs.open(WMM.sent_path, 'r', 'utf-8').readlines()[1:]"
   ]
  },
  {
   "cell_type": "code",
   "execution_count": 152,
   "metadata": {},
   "outputs": [
    {
     "data": {
      "text/plain": [
       "['Bokmål:0 BokmålBokmål (UK: , US: ; literally \"book tongue\") is an official written standard for the Norwegian language, alongside Nynorsk. Bokmål is the preferred written standard of\\n',\n",
       " 'Bokmål:1 Norwegian for 85% to 90% of the population in Norway. Unlike, for instance, the Italian language, there is no nationwide standard or agreement on the pronunciation of Bokmål.\\n',\n",
       " 'Bokmål:2 Bokmål is regulated by the governmental Norwegian Language Council. A more conservative orthographic standard, commonly known as Riksmål, is regulated by the non-governmental\\n',\n",
       " 'Bokmål:3 Norwegian Academy for Language and Literature. The written standard is a Norwegianised variety of the Danish language. The first Bokmål orthography was officially adopted in 1907\\n',\n",
       " 'Bokmål:4 under the name Riksmål after being under development since 1879. The architects behind the reform were Marius Nygaard and Jacob Jonathan Aars. It was an adaptation of written\\n',\n",
       " 'Bokmål:5 Danish, which was commonly used since the past union with Denmark, to the Dano-Norwegian koiné spoken by the Norwegian urban elite, especially in the capital. When the large\\n',\n",
       " 'Bokmål:6 conservative newspaper Aftenposten adopted the 1907 orthography in 1923, Danish writing was practically out of use in Norway. The name Bokmål was officially adopted in 1929 after a\\n',\n",
       " 'Bokmål:7 proposition to call the written language Dano-Norwegian lost by a single vote in the Lagting (a chamber in the Norwegian parliament).The government does not regulate spoken Bokmål\\n',\n",
       " \"Bokmål:8 and recommends that normalised pronunciation should follow the phonology of the speaker's local dialect. Nevertheless, there is a spoken variety of Norwegian that, in the region of\\n\",\n",
       " 'Bokmål:9 South-Eastern Norway, is commonly seen as the de facto standard for spoken Bokmål. In The Phonology of Norwegian, Gjert Kristoffersen writes that  Bokmål [...] is in its most\\n',\n",
       " 'Bokmål:10 common variety looked upon as reflecting formal middle-class urban speech, especially that found in the eastern part of Southern Norway [sic], with the capital Oslo as the obvious\\n',\n",
       " 'Bokmål:11 centre. One can therefore say that Bokmål has a spoken realisation that one might call an unofficial standard spoken Norwegian. It is in fact often referred to as Standard Østnorsk\\n',\n",
       " \"Bokmål:12 ('Standard East Norwegian'). Standard Østnorsk (Standard East Norwegian) is the pronunciation most commonly given in dictionaries and taught to foreigners in Norwegian language\\n\",\n",
       " 'Bokmål:13 classes. Standard Østnorsk as a spoken language is not used and does not have any particular prestige outside South-Eastern Norway. All spoken variations of the Norwegian language\\n',\n",
       " 'Bokmål:14 are used e.g. in the Storting and in Norwegian national broadcasters such as NRK and TV 2, even in cases where the conventions of Bokmål are used. The spoken variation typically\\n',\n",
       " 'Bokmål:15 reflects the region the person grew up in.\\n',\n",
       " 'History:0 HistoryUp until about 1300, the written language of Norway, Old Norwegian, was essentially the same as the other Old Norse dialects. The speech, however, was gradually\\n',\n",
       " 'History:1 differentiated into local and regional dialects. As long as Norway remained an independent kingdom, the written language remained essentially constant.In 1380, Norway entered into\\n',\n",
       " 'History:2 a personal union with Denmark. By the early 16th century, Norway had lost its separate political institutions, and together with Denmark formed the political unit known as\\n',\n",
       " 'History:3 Denmark–Norway until 1814, progressively becoming the weaker member of the union. During this period, the modern Danish and Norwegian languages emerged. Norwegian went through a\\n',\n",
       " 'History:4 Middle Norwegian transition, and a Danish written language more heavily influenced by Low German was gradually standardised. This process was aided by the Reformation, which\\n',\n",
       " \"History:5 prompted Christiern Pedersen's translation of the Bible into Danish. Remnants of written Old Norse and Norwegian were thus displaced by the Danish standard, which became used for\\n\",\n",
       " 'History:6 virtually all administrative documents.Norwegians used Danish primarily in writing, but it gradually came to be spoken by urban elites on formal or official occasions. Although\\n',\n",
       " \"History:7 Danish never became the spoken language of the vast majority of the population, by the time Norway's ties with Denmark were severed in 1814, a Dano-Norwegian vernacular often\\n\",\n",
       " 'History:8 called the \"educated daily speech\" had become the mother tongue of elites in most Norwegian cities, such as Bergen, Kristiania and Trondheim. This Dano-Norwegian koiné could be\\n',\n",
       " 'History:9 described as Danish with regional Norwegian pronunciation (see Norwegian dialects), some Norwegian vocabulary, and simplified grammar.  With the gradual subsequent process of\\n',\n",
       " 'History:10 Norwegianisation of the written language used in the cities of Norway, from Danish to Bokmål and Riksmål, the upper-class sociolects in the cities changed accordingly. In 1814,\\n',\n",
       " 'History:11 when Norway was ceded from Denmark to Sweden, Norway defied Sweden and her allies, declared independence and adopted a democratic constitution. Although compelled to submit to a\\n',\n",
       " 'History:12 dynastic union with Sweden, this spark of independence continued to burn, influencing the evolution of language in Norway. Old language traditions were revived by the patriotic\\n',\n",
       " 'History:13 poet Henrik Wergeland (1808–1845), who championed an independent non-Danish written language. Haugen indicates that:  \"Within the first generation of liberty, two solutions emerged\\n',\n",
       " 'History:14 and won adherents, one based on the speech of the upper class and one on that of the common people. The former called for Norwegianisation of the Danish writing, the latter for a\\n',\n",
       " 'History:15 brand new start.\" The more conservative of the two language transitions was advanced by the work of writers like Peter Asbjørnsen and Jørgen Moe, schoolmaster and agitator for\\n',\n",
       " \"History:16 language reform Knud Knudsen, and Knudsen's famous disciple, Bjørnstjerne Bjørnson, as well as a more cautious Norwegianisation by Henrik Ibsen. In particular, Knudsen's work on\\n\",\n",
       " 'History:17 language reform in the mid-19th century was important for the 1907 orthography and a subsequent reform in 1917, so much so that he is now often called the \"father of Bokmål\".\\n',\n",
       " 'Controversy:0 Controversy\\n',\n",
       " 'Riksmål vs. Bokmål:0 Riksmål vs. BokmålThe term Riksmål, meaning National Language, was first proposed by Bjørnstjerne Bjørnson in 1899 as a name for the Norwegian variety of written Danish as well as\\n',\n",
       " 'Riksmål vs. Bokmål:1 spoken Dano-Norwegian. It was borrowed from Denmark where it denoted standard written and spoken Danish. The same year the Riksmål movement became organised under his leadership in\\n',\n",
       " 'Riksmål vs. Bokmål:2 order to fight against the growing influence of Nynorsk, eventually leading to the foundation of the non-governmental organisation Riksmålsforbundet in 1907. Bjørnson became\\n',\n",
       " \"Riksmål vs. Bokmål:3 Riksmålsforbundet's first leader until his death in 1910. The 1917 reform introduced some elements from Norwegian dialects and Nynorsk as optional alternatives to traditional Dano-\\n\",\n",
       " 'Riksmål vs. Bokmål:4 Norwegian forms. This was part of an official policy to bring the two Norwegian languages more closely together, intending eventually to merge them into one. These changes met\\n',\n",
       " 'Riksmål vs. Bokmål:5 resistance from the Riksmål movement, and Riksmålsvernet (The Society for the Protection of Riksmål) was founded in 1919. The 1938 reform in Bokmål introduced more elements from\\n',\n",
       " 'Riksmål vs. Bokmål:6 dialects and Nynorsk, and more importantly, many traditional Dano-Norwegian forms were excluded. This so-called radical Bokmål or Samnorsk (Common Norwegian) met even stiffer\\n',\n",
       " \"Riksmål vs. Bokmål:7 resistance from the Riksmål movement, culminating in the 1950s under the leadership of Arnulf Øverland. Riksmålsforbundet organised a parents' campaign against Samnorsk in 1951,\\n\",\n",
       " 'Riksmål vs. Bokmål:8 and the Norwegian Academy for Language and Literature was founded in 1953. Because of this resistance, the 1959 reform was relatively modest, and the radical reforms were partially\\n',\n",
       " 'Riksmål vs. Bokmål:9 reverted in 1981 and 2005. Currently, Riksmål denotes the moderate, chiefly pre-1938, unofficial variant of Bokmål, which is still in use and is regulated by the Norwegian Academy\\n',\n",
       " 'Riksmål vs. Bokmål:10 and promoted by Riksmålsforbundet. Riksmål has gone through some spelling reforms, but none as profound as the ones that shaped Bokmål. A Riksmål dictionary was published in four\\n',\n",
       " 'Riksmål vs. Bokmål:11 volumes in the period 1937 to 1957 by Riksmålsvernet, and two supplementary volumes were published in 1995 by the Norwegian Academy. After the latest Bokmål reforms, the difference\\n',\n",
       " 'Riksmål vs. Bokmål:12 between Bokmål and Riksmål have diminished and they are now comparable to American and British English differences, but the Norwegian Academy still upholds its own standard.\\n',\n",
       " \"Riksmål vs. Bokmål:13 Norway's most popular daily newspaper, Aftenposten, is notable for its use of Riksmål as its standard language. Use of Riksmål is rigorously pursued, even with regard to readers'\\n\",\n",
       " 'Riksmål vs. Bokmål:14 letters, which are \"translated\" into the standard.\\n',\n",
       " 'Terminology:0 TerminologyIn the Norwegian discourse, the term Dano-Norwegian is seldom used with reference to contemporary Bokmål and its spoken varieties. The nationality of the language has\\n',\n",
       " 'Terminology:1 been a hotly debated topic, and its users and proponents have generally not been fond of the implied association with Danish (hence the neutral names Riksmål and Bokmål, meaning\\n',\n",
       " 'Terminology:2 state language and book language respectively). The debate intensified with the advent of Nynorsk in the 19th century, a written language based on rural Modern Norwegian dialects\\n',\n",
       " 'Terminology:3 and puristic opposition to the Danish and Dano-Norwegian spoken in Norwegian cities.\\n',\n",
       " 'Characteristics:0 Characteristics\\n',\n",
       " 'Differences from Danish:0 Differences from DanishThe following table shows a few central differences between Bokmål and Danish.\\n',\n",
       " 'Differences from the traditional Oslo dialect:0 Differences from the traditional Oslo dialectMost natives of Oslo today speak a dialect that is an amalgamation of vikværsk (which is the technical term for the traditional\\n',\n",
       " 'Differences from the traditional Oslo dialect:1 dialects in the Oslofjord area) and written Danish; and subsequently Riksmål and Bokmål, which primarily inherited their non-Oslo elements from Danish. The present day Oslo dialect\\n',\n",
       " 'Differences from the traditional Oslo dialect:2 is also influenced by other Eastern Norwegian dialects.The following table shows some important cases where traditional Bokmål and Standard Østnorsk followed Danish rather than the\\n',\n",
       " 'Differences from the traditional Oslo dialect:3 traditional Oslo dialect as it is commonly portrayed in literature about Norwegian dialects. In many of these cases, radical Bokmål follows the traditional Oslo dialect and\\n',\n",
       " 'Differences from the traditional Oslo dialect:4 Nynorsk, and these forms are also given.  1 Closest match to the traditional Oslo dialect. 2 However, Bokmål uses ku \"cow\" and (now archaic) su \"sow\" exclusively.\\n',\n",
       " 'History:0 HistoryUp until about 1300, the written language of Norway, Old Norwegian, was essentially the same as the other Old Norse dialects. The speech, however, was gradually\\n',\n",
       " 'History:1 differentiated into local and regional dialects. As long as Norway remained an independent kingdom, the written language remained essentially constant.In 1380, Norway entered into\\n',\n",
       " 'History:2 a personal union with Denmark. By the early 16th century, Norway had lost its separate political institutions, and together with Denmark formed the political unit known as\\n',\n",
       " 'History:3 Denmark–Norway until 1814, progressively becoming the weaker member of the union. During this period, the modern Danish and Norwegian languages emerged. Norwegian went through a\\n',\n",
       " 'History:4 Middle Norwegian transition, and a Danish written language more heavily influenced by Low German was gradually standardised. This process was aided by the Reformation, which\\n',\n",
       " \"History:5 prompted Christiern Pedersen's translation of the Bible into Danish. Remnants of written Old Norse and Norwegian were thus displaced by the Danish standard, which became used for\\n\",\n",
       " 'History:6 virtually all administrative documents.Norwegians used Danish primarily in writing, but it gradually came to be spoken by urban elites on formal or official occasions. Although\\n',\n",
       " \"History:7 Danish never became the spoken language of the vast majority of the population, by the time Norway's ties with Denmark were severed in 1814, a Dano-Norwegian vernacular often\\n\",\n",
       " 'History:8 called the \"educated daily speech\" had become the mother tongue of elites in most Norwegian cities, such as Bergen, Kristiania and Trondheim. This Dano-Norwegian koiné could be\\n',\n",
       " 'History:9 described as Danish with regional Norwegian pronunciation (see Norwegian dialects), some Norwegian vocabulary, and simplified grammar.  With the gradual subsequent process of\\n',\n",
       " 'History:10 Norwegianisation of the written language used in the cities of Norway, from Danish to Bokmål and Riksmål, the upper-class sociolects in the cities changed accordingly. In 1814,\\n',\n",
       " 'History:11 when Norway was ceded from Denmark to Sweden, Norway defied Sweden and her allies, declared independence and adopted a democratic constitution. Although compelled to submit to a\\n',\n",
       " 'History:12 dynastic union with Sweden, this spark of independence continued to burn, influencing the evolution of language in Norway. Old language traditions were revived by the patriotic\\n',\n",
       " 'History:13 poet Henrik Wergeland (1808–1845), who championed an independent non-Danish written language. Haugen indicates that:  \"Within the first generation of liberty, two solutions emerged\\n',\n",
       " 'History:14 and won adherents, one based on the speech of the upper class and one on that of the common people. The former called for Norwegianisation of the Danish writing, the latter for a\\n',\n",
       " 'History:15 brand new start.\" The more conservative of the two language transitions was advanced by the work of writers like Peter Asbjørnsen and Jørgen Moe, schoolmaster and agitator for\\n',\n",
       " \"History:16 language reform Knud Knudsen, and Knudsen's famous disciple, Bjørnstjerne Bjørnson, as well as a more cautious Norwegianisation by Henrik Ibsen. In particular, Knudsen's work on\\n\",\n",
       " 'History:17 language reform in the mid-19th century was important for the 1907 orthography and a subsequent reform in 1917, so much so that he is now often called the \"father of Bokmål\".\\n',\n",
       " 'Controversy:0 Controversy\\n',\n",
       " 'Riksmål vs. Bokmål:0 Riksmål vs. BokmålThe term Riksmål, meaning National Language, was first proposed by Bjørnstjerne Bjørnson in 1899 as a name for the Norwegian variety of written Danish as well as\\n',\n",
       " 'Riksmål vs. Bokmål:1 spoken Dano-Norwegian. It was borrowed from Denmark where it denoted standard written and spoken Danish. The same year the Riksmål movement became organised under his leadership in\\n',\n",
       " 'Riksmål vs. Bokmål:2 order to fight against the growing influence of Nynorsk, eventually leading to the foundation of the non-governmental organisation Riksmålsforbundet in 1907. Bjørnson became\\n',\n",
       " \"Riksmål vs. Bokmål:3 Riksmålsforbundet's first leader until his death in 1910. The 1917 reform introduced some elements from Norwegian dialects and Nynorsk as optional alternatives to traditional Dano-\\n\",\n",
       " 'Riksmål vs. Bokmål:4 Norwegian forms. This was part of an official policy to bring the two Norwegian languages more closely together, intending eventually to merge them into one. These changes met\\n',\n",
       " 'Riksmål vs. Bokmål:5 resistance from the Riksmål movement, and Riksmålsvernet (The Society for the Protection of Riksmål) was founded in 1919. The 1938 reform in Bokmål introduced more elements from\\n',\n",
       " 'Riksmål vs. Bokmål:6 dialects and Nynorsk, and more importantly, many traditional Dano-Norwegian forms were excluded. This so-called radical Bokmål or Samnorsk (Common Norwegian) met even stiffer\\n',\n",
       " \"Riksmål vs. Bokmål:7 resistance from the Riksmål movement, culminating in the 1950s under the leadership of Arnulf Øverland. Riksmålsforbundet organised a parents' campaign against Samnorsk in 1951,\\n\",\n",
       " 'Riksmål vs. Bokmål:8 and the Norwegian Academy for Language and Literature was founded in 1953. Because of this resistance, the 1959 reform was relatively modest, and the radical reforms were partially\\n',\n",
       " 'Riksmål vs. Bokmål:9 reverted in 1981 and 2005. Currently, Riksmål denotes the moderate, chiefly pre-1938, unofficial variant of Bokmål, which is still in use and is regulated by the Norwegian Academy\\n',\n",
       " 'Riksmål vs. Bokmål:10 and promoted by Riksmålsforbundet. Riksmål has gone through some spelling reforms, but none as profound as the ones that shaped Bokmål. A Riksmål dictionary was published in four\\n',\n",
       " 'Riksmål vs. Bokmål:11 volumes in the period 1937 to 1957 by Riksmålsvernet, and two supplementary volumes were published in 1995 by the Norwegian Academy. After the latest Bokmål reforms, the difference\\n',\n",
       " 'Riksmål vs. Bokmål:12 between Bokmål and Riksmål have diminished and they are now comparable to American and British English differences, but the Norwegian Academy still upholds its own standard.\\n',\n",
       " \"Riksmål vs. Bokmål:13 Norway's most popular daily newspaper, Aftenposten, is notable for its use of Riksmål as its standard language. Use of Riksmål is rigorously pursued, even with regard to readers'\\n\",\n",
       " 'Riksmål vs. Bokmål:14 letters, which are \"translated\" into the standard.\\n',\n",
       " 'Terminology:0 TerminologyIn the Norwegian discourse, the term Dano-Norwegian is seldom used with reference to contemporary Bokmål and its spoken varieties. The nationality of the language has\\n',\n",
       " 'Terminology:1 been a hotly debated topic, and its users and proponents have generally not been fond of the implied association with Danish (hence the neutral names Riksmål and Bokmål, meaning\\n',\n",
       " 'Terminology:2 state language and book language respectively). The debate intensified with the advent of Nynorsk in the 19th century, a written language based on rural Modern Norwegian dialects\\n',\n",
       " 'Terminology:3 and puristic opposition to the Danish and Dano-Norwegian spoken in Norwegian cities.\\n',\n",
       " 'Characteristics:0 Characteristics\\n',\n",
       " 'Differences from Danish:0 Differences from DanishThe following table shows a few central differences between Bokmål and Danish.\\n',\n",
       " 'Differences from the traditional Oslo dialect:0 Differences from the traditional Oslo dialectMost natives of Oslo today speak a dialect that is an amalgamation of vikværsk (which is the technical term for the traditional\\n',\n",
       " 'Differences from the traditional Oslo dialect:1 dialects in the Oslofjord area) and written Danish; and subsequently Riksmål and Bokmål, which primarily inherited their non-Oslo elements from Danish. The present day Oslo dialect\\n',\n",
       " 'Differences from the traditional Oslo dialect:2 is also influenced by other Eastern Norwegian dialects.The following table shows some important cases where traditional Bokmål and Standard Østnorsk followed Danish rather than the\\n',\n",
       " 'Differences from the traditional Oslo dialect:3 traditional Oslo dialect as it is commonly portrayed in literature about Norwegian dialects. In many of these cases, radical Bokmål follows the traditional Oslo dialect and\\n',\n",
       " 'Differences from the traditional Oslo dialect:4 Nynorsk, and these forms are also given.  1 Closest match to the traditional Oslo dialect. 2 However, Bokmål uses ku \"cow\" and (now archaic) su \"sow\" exclusively.\\n']"
      ]
     },
     "execution_count": 152,
     "metadata": {},
     "output_type": "execute_result"
    }
   ],
   "source": [
    "lines"
   ]
  },
  {
   "cell_type": "code",
   "execution_count": 153,
   "metadata": {},
   "outputs": [],
   "source": [
    "sents = [text_normalize(line.split(\" \", 1)[-1]).strip() + \"E\" for line in lines] # text normalization, E: EOS"
   ]
  },
  {
   "cell_type": "code",
   "execution_count": 154,
   "metadata": {},
   "outputs": [
    {
     "data": {
      "text/plain": [
       "['bokmalbokmal uk us literally book tongue is an official written standard for the norwegian language alongside nynorsk. bokmal is the preferred written standard ofE',\n",
       " 'norwegian for to of the population in norway. unlike for instance the italian language there is no nationwide standard or agreement on the pronunciation of bokmal.E',\n",
       " 'bokmal is regulated by the governmental norwegian language council. a more conservative orthographic standard commonly known as riksmal is regulated by the non governmentalE',\n",
       " 'norwegian academy for language and literature. the written standard is a norwegianised variety of the danish language. the first bokmal orthography was officially adopted inE',\n",
       " 'under the name riksmal after being under development since . the architects behind the reform were marius nygaard and jacob jonathan aars. it was an adaptation of writtenE',\n",
       " 'danish which was commonly used since the past union with denmark to the dano norwegian koine spoken by the norwegian urban elite especially in the capital. when the largeE',\n",
       " 'conservative newspaper aftenposten adopted the orthography in danish writing was practically out of use in norway. the name bokmal was officially adopted in after aE',\n",
       " 'proposition to call the written language dano norwegian lost by a single vote in the lagting a chamber in the norwegian parliament .the government does not regulate spoken bokmalE',\n",
       " \"and recommends that normalised pronunciation should follow the phonology of the speaker's local dialect. nevertheless there is a spoken variety of norwegian that in the region ofE\",\n",
       " 'south eastern norway is commonly seen as the de facto standard for spoken bokmal. in the phonology of norwegian gjert kristoffersen writes that bokmal ... is in its mostE',\n",
       " 'common variety looked upon as reflecting formal middle class urban speech especially that found in the eastern part of southern norway sic with the capital oslo as the obviousE',\n",
       " 'centre. one can therefore say that bokmal has a spoken realisation that one might call an unofficial standard spoken norwegian. it is in fact often referred to as standard stnorskE',\n",
       " \"'standard east norwegian' . standard stnorsk standard east norwegian is the pronunciation most commonly given in dictionaries and taught to foreigners in norwegian languageE\",\n",
       " 'classes. standard stnorsk as a spoken language is not used and does not have any particular prestige outside south eastern norway. all spoken variations of the norwegian languageE',\n",
       " 'are used e.g. in the storting and in norwegian national broadcasters such as nrk and tv even in cases where the conventions of bokmal are used. the spoken variation typicallyE',\n",
       " 'reflects the region the person grew up in.E',\n",
       " 'historyup until about the written language of norway old norwegian was essentially the same as the other old norse dialects. the speech however was graduallyE',\n",
       " 'differentiated into local and regional dialects. as long as norway remained an independent kingdom the written language remained essentially constant.in norway entered intoE',\n",
       " 'a personal union with denmark. by the early th century norway had lost its separate political institutions and together with denmark formed the political unit known asE',\n",
       " 'denmark norway until progressively becoming the weaker member of the union. during this period the modern danish and norwegian languages emerged. norwegian went through aE',\n",
       " 'middle norwegian transition and a danish written language more heavily influenced by low german was gradually standardised. this process was aided by the reformation whichE',\n",
       " \"prompted christiern pedersen's translation of the bible into danish. remnants of written old norse and norwegian were thus displaced by the danish standard which became used forE\",\n",
       " 'virtually all administrative documents.norwegians used danish primarily in writing but it gradually came to be spoken by urban elites on formal or official occasions. althoughE',\n",
       " \"danish never became the spoken language of the vast majority of the population by the time norway's ties with denmark were severed in a dano norwegian vernacular oftenE\",\n",
       " 'called the educated daily speech had become the mother tongue of elites in most norwegian cities such as bergen kristiania and trondheim. this dano norwegian koine could beE',\n",
       " 'described as danish with regional norwegian pronunciation see norwegian dialects some norwegian vocabulary and simplified grammar. with the gradual subsequent process ofE',\n",
       " 'norwegianisation of the written language used in the cities of norway from danish to bokmal and riksmal the upper class sociolects in the cities changed accordingly. inE',\n",
       " 'when norway was ceded from denmark to sweden norway defied sweden and her allies declared independence and adopted a democratic constitution. although compelled to submit to aE',\n",
       " 'dynastic union with sweden this spark of independence continued to burn influencing the evolution of language in norway. old language traditions were revived by the patrioticE',\n",
       " 'poet henrik wergeland who championed an independent non danish written language. haugen indicates that within the first generation of liberty two solutions emergedE',\n",
       " 'and won adherents one based on the speech of the upper class and one on that of the common people. the former called for norwegianisation of the danish writing the latter for aE',\n",
       " 'brand new start. the more conservative of the two language transitions was advanced by the work of writers like peter asbj rnsen and j rgen moe schoolmaster and agitator forE',\n",
       " \"language reform knud knudsen and knudsen's famous disciple bj rnstjerne bj rnson as well as a more cautious norwegianisation by henrik ibsen. in particular knudsen's work onE\",\n",
       " 'language reform in the mid th century was important for the orthography and a subsequent reform in so much so that he is now often called the father of bokmal .E',\n",
       " 'controversyE',\n",
       " 'vs. bokmal riksmal vs. bokmalthe term riksmal meaning national language was first proposed by bj rnstjerne bj rnson in as a name for the norwegian variety of written danish as well asE',\n",
       " 'vs. bokmal spoken dano norwegian. it was borrowed from denmark where it denoted standard written and spoken danish. the same year the riksmal movement became organised under his leadership inE',\n",
       " 'vs. bokmal order to fight against the growing influence of nynorsk eventually leading to the foundation of the non governmental organisation riksmalsforbundet in . bj rnson becameE',\n",
       " \"vs. bokmal riksmalsforbundet's first leader until his death in . the reform introduced some elements from norwegian dialects and nynorsk as optional alternatives to traditional danoE\",\n",
       " 'vs. bokmal norwegian forms. this was part of an official policy to bring the two norwegian languages more closely together intending eventually to merge them into one. these changes metE',\n",
       " 'vs. bokmal resistance from the riksmal movement and riksmalsvernet the society for the protection of riksmal was founded in . the reform in bokmal introduced more elements fromE',\n",
       " 'vs. bokmal dialects and nynorsk and more importantly many traditional dano norwegian forms were excluded. this so called radical bokmal or samnorsk common norwegian met even stifferE',\n",
       " \"vs. bokmal resistance from the riksmal movement culminating in the s under the leadership of arnulf verland. riksmalsforbundet organised a parents' campaign against samnorsk inE\",\n",
       " 'vs. bokmal and the norwegian academy for language and literature was founded in . because of this resistance the reform was relatively modest and the radical reforms were partiallyE',\n",
       " 'vs. bokmal reverted in and . currently riksmal denotes the moderate chiefly pre unofficial variant of bokmal which is still in use and is regulated by the norwegian academyE',\n",
       " 'vs. bokmal and promoted by riksmalsforbundet. riksmal has gone through some spelling reforms but none as profound as the ones that shaped bokmal. a riksmal dictionary was published in fourE',\n",
       " 'vs. bokmal volumes in the period to by riksmalsvernet and two supplementary volumes were published in by the norwegian academy. after the latest bokmal reforms the differenceE',\n",
       " 'vs. bokmal between bokmal and riksmal have diminished and they are now comparable to american and british english differences but the norwegian academy still upholds its own standard.E',\n",
       " \"vs. bokmal norway's most popular daily newspaper aftenposten is notable for its use of riksmal as its standard language. use of riksmal is rigorously pursued even with regard to readers'E\",\n",
       " 'vs. bokmal letters which are translated into the standard.E',\n",
       " 'terminologyin the norwegian discourse the term dano norwegian is seldom used with reference to contemporary bokmal and its spoken varieties. the nationality of the language hasE',\n",
       " 'been a hotly debated topic and its users and proponents have generally not been fond of the implied association with danish hence the neutral names riksmal and bokmal meaningE',\n",
       " 'state language and book language respectively . the debate intensified with the advent of nynorsk in the th century a written language based on rural modern norwegian dialectsE',\n",
       " 'and puristic opposition to the danish and dano norwegian spoken in norwegian cities.E',\n",
       " 'characteristicsE',\n",
       " 'from danish differences from danishthe following table shows a few central differences between bokmal and danish.E',\n",
       " 'from the traditional oslo dialect differences from the traditional oslo dialectmost natives of oslo today speak a dialect that is an amalgamation of vikv rsk which is the technical term for the traditionalE',\n",
       " 'from the traditional oslo dialect dialects in the oslofjord area and written danish and subsequently riksmal and bokmal which primarily inherited their non oslo elements from danish. the present day oslo dialectE',\n",
       " 'from the traditional oslo dialect is also influenced by other eastern norwegian dialects.the following table shows some important cases where traditional bokmal and standard stnorsk followed danish rather than theE',\n",
       " 'from the traditional oslo dialect traditional oslo dialect as it is commonly portrayed in literature about norwegian dialects. in many of these cases radical bokmal follows the traditional oslo dialect andE',\n",
       " 'from the traditional oslo dialect nynorsk and these forms are also given. closest match to the traditional oslo dialect. however bokmal uses ku cow and now archaic su sow exclusively.E',\n",
       " 'historyup until about the written language of norway old norwegian was essentially the same as the other old norse dialects. the speech however was graduallyE',\n",
       " 'differentiated into local and regional dialects. as long as norway remained an independent kingdom the written language remained essentially constant.in norway entered intoE',\n",
       " 'a personal union with denmark. by the early th century norway had lost its separate political institutions and together with denmark formed the political unit known asE',\n",
       " 'denmark norway until progressively becoming the weaker member of the union. during this period the modern danish and norwegian languages emerged. norwegian went through aE',\n",
       " 'middle norwegian transition and a danish written language more heavily influenced by low german was gradually standardised. this process was aided by the reformation whichE',\n",
       " \"prompted christiern pedersen's translation of the bible into danish. remnants of written old norse and norwegian were thus displaced by the danish standard which became used forE\",\n",
       " 'virtually all administrative documents.norwegians used danish primarily in writing but it gradually came to be spoken by urban elites on formal or official occasions. althoughE',\n",
       " \"danish never became the spoken language of the vast majority of the population by the time norway's ties with denmark were severed in a dano norwegian vernacular oftenE\",\n",
       " 'called the educated daily speech had become the mother tongue of elites in most norwegian cities such as bergen kristiania and trondheim. this dano norwegian koine could beE',\n",
       " 'described as danish with regional norwegian pronunciation see norwegian dialects some norwegian vocabulary and simplified grammar. with the gradual subsequent process ofE',\n",
       " 'norwegianisation of the written language used in the cities of norway from danish to bokmal and riksmal the upper class sociolects in the cities changed accordingly. inE',\n",
       " 'when norway was ceded from denmark to sweden norway defied sweden and her allies declared independence and adopted a democratic constitution. although compelled to submit to aE',\n",
       " 'dynastic union with sweden this spark of independence continued to burn influencing the evolution of language in norway. old language traditions were revived by the patrioticE',\n",
       " 'poet henrik wergeland who championed an independent non danish written language. haugen indicates that within the first generation of liberty two solutions emergedE',\n",
       " 'and won adherents one based on the speech of the upper class and one on that of the common people. the former called for norwegianisation of the danish writing the latter for aE',\n",
       " 'brand new start. the more conservative of the two language transitions was advanced by the work of writers like peter asbj rnsen and j rgen moe schoolmaster and agitator forE',\n",
       " \"language reform knud knudsen and knudsen's famous disciple bj rnstjerne bj rnson as well as a more cautious norwegianisation by henrik ibsen. in particular knudsen's work onE\",\n",
       " 'language reform in the mid th century was important for the orthography and a subsequent reform in so much so that he is now often called the father of bokmal .E',\n",
       " 'controversyE',\n",
       " 'vs. bokmal riksmal vs. bokmalthe term riksmal meaning national language was first proposed by bj rnstjerne bj rnson in as a name for the norwegian variety of written danish as well asE',\n",
       " 'vs. bokmal spoken dano norwegian. it was borrowed from denmark where it denoted standard written and spoken danish. the same year the riksmal movement became organised under his leadership inE',\n",
       " 'vs. bokmal order to fight against the growing influence of nynorsk eventually leading to the foundation of the non governmental organisation riksmalsforbundet in . bj rnson becameE',\n",
       " \"vs. bokmal riksmalsforbundet's first leader until his death in . the reform introduced some elements from norwegian dialects and nynorsk as optional alternatives to traditional danoE\",\n",
       " 'vs. bokmal norwegian forms. this was part of an official policy to bring the two norwegian languages more closely together intending eventually to merge them into one. these changes metE',\n",
       " 'vs. bokmal resistance from the riksmal movement and riksmalsvernet the society for the protection of riksmal was founded in . the reform in bokmal introduced more elements fromE',\n",
       " 'vs. bokmal dialects and nynorsk and more importantly many traditional dano norwegian forms were excluded. this so called radical bokmal or samnorsk common norwegian met even stifferE',\n",
       " \"vs. bokmal resistance from the riksmal movement culminating in the s under the leadership of arnulf verland. riksmalsforbundet organised a parents' campaign against samnorsk inE\",\n",
       " 'vs. bokmal and the norwegian academy for language and literature was founded in . because of this resistance the reform was relatively modest and the radical reforms were partiallyE',\n",
       " 'vs. bokmal reverted in and . currently riksmal denotes the moderate chiefly pre unofficial variant of bokmal which is still in use and is regulated by the norwegian academyE',\n",
       " 'vs. bokmal and promoted by riksmalsforbundet. riksmal has gone through some spelling reforms but none as profound as the ones that shaped bokmal. a riksmal dictionary was published in fourE',\n",
       " 'vs. bokmal volumes in the period to by riksmalsvernet and two supplementary volumes were published in by the norwegian academy. after the latest bokmal reforms the differenceE',\n",
       " 'vs. bokmal between bokmal and riksmal have diminished and they are now comparable to american and british english differences but the norwegian academy still upholds its own standard.E',\n",
       " \"vs. bokmal norway's most popular daily newspaper aftenposten is notable for its use of riksmal as its standard language. use of riksmal is rigorously pursued even with regard to readers'E\",\n",
       " 'vs. bokmal letters which are translated into the standard.E',\n",
       " 'terminologyin the norwegian discourse the term dano norwegian is seldom used with reference to contemporary bokmal and its spoken varieties. the nationality of the language hasE',\n",
       " 'been a hotly debated topic and its users and proponents have generally not been fond of the implied association with danish hence the neutral names riksmal and bokmal meaningE',\n",
       " 'state language and book language respectively . the debate intensified with the advent of nynorsk in the th century a written language based on rural modern norwegian dialectsE',\n",
       " 'and puristic opposition to the danish and dano norwegian spoken in norwegian cities.E',\n",
       " 'characteristicsE',\n",
       " 'from danish differences from danishthe following table shows a few central differences between bokmal and danish.E',\n",
       " 'from the traditional oslo dialect differences from the traditional oslo dialectmost natives of oslo today speak a dialect that is an amalgamation of vikv rsk which is the technical term for the traditionalE',\n",
       " 'from the traditional oslo dialect dialects in the oslofjord area and written danish and subsequently riksmal and bokmal which primarily inherited their non oslo elements from danish. the present day oslo dialectE',\n",
       " 'from the traditional oslo dialect is also influenced by other eastern norwegian dialects.the following table shows some important cases where traditional bokmal and standard stnorsk followed danish rather than theE',\n",
       " 'from the traditional oslo dialect traditional oslo dialect as it is commonly portrayed in literature about norwegian dialects. in many of these cases radical bokmal follows the traditional oslo dialect andE',\n",
       " 'from the traditional oslo dialect nynorsk and these forms are also given. closest match to the traditional oslo dialect. however bokmal uses ku cow and now archaic su sow exclusively.E']"
      ]
     },
     "execution_count": 154,
     "metadata": {},
     "output_type": "execute_result"
    }
   ],
   "source": [
    "sents"
   ]
  },
  {
   "cell_type": "code",
   "execution_count": 143,
   "metadata": {},
   "outputs": [
    {
     "data": {
      "text/plain": [
       "'Bokmål (UK: , US: ; literally \"book tongue\") is an official written standard for the Norwegian language, alongside Nynorsk. Bokmål is the preferred written standard of Norwegian for 85% to 90% of the population in Norway. Unlike, for instance, the Italian language, there is no nationwide standard or agreement on the pronunciation of Bokmål.\\n'"
      ]
     },
     "execution_count": 143,
     "metadata": {},
     "output_type": "execute_result"
    }
   ],
   "source": [
    "lines[0].split(\" \", 1)[-1]"
   ]
  },
  {
   "cell_type": "code",
   "execution_count": 130,
   "metadata": {},
   "outputs": [
    {
     "data": {
      "text/plain": [
       "'bokmal. bokmal uk us literally book tongue is an official written standard for the norwegian language alongside nynorsk. bokmal is the preferred written standard of norwegian for to of the population in norway. unlike for instance the italian language there is no nationwide standard or agreement on the pronunciation of bokmal. '"
      ]
     },
     "execution_count": 130,
     "metadata": {},
     "output_type": "execute_result"
    }
   ],
   "source": [
    "text_normalize(lines[0])"
   ]
  },
  {
   "cell_type": "code",
   "execution_count": 136,
   "metadata": {},
   "outputs": [],
   "source": [
    "char2idx, idx2char = load_vocab()"
   ]
  },
  {
   "cell_type": "code",
   "execution_count": 137,
   "metadata": {},
   "outputs": [
    {
     "ename": "ValueError",
     "evalue": "cannot copy sequence with size 321 to array axis with dimension 180",
     "output_type": "error",
     "traceback": [
      "\u001b[0;31m---------------------------------------------------------------------------\u001b[0m",
      "\u001b[0;31mValueError\u001b[0m                                Traceback (most recent call last)",
      "\u001b[0;32m<ipython-input-137-d39a51f36a40>\u001b[0m in \u001b[0;36m<module>\u001b[0;34m\u001b[0m\n\u001b[1;32m      1\u001b[0m \u001b[0mtexts\u001b[0m \u001b[0;34m=\u001b[0m \u001b[0mnp\u001b[0m\u001b[0;34m.\u001b[0m\u001b[0mzeros\u001b[0m\u001b[0;34m(\u001b[0m\u001b[0;34m(\u001b[0m\u001b[0mlen\u001b[0m\u001b[0;34m(\u001b[0m\u001b[0msents\u001b[0m\u001b[0;34m)\u001b[0m\u001b[0;34m,\u001b[0m \u001b[0mhp\u001b[0m\u001b[0;34m.\u001b[0m\u001b[0mmax_N\u001b[0m\u001b[0;34m)\u001b[0m\u001b[0;34m,\u001b[0m \u001b[0mnp\u001b[0m\u001b[0;34m.\u001b[0m\u001b[0mint32\u001b[0m\u001b[0;34m)\u001b[0m\u001b[0;34m\u001b[0m\u001b[0;34m\u001b[0m\u001b[0m\n\u001b[1;32m      2\u001b[0m \u001b[0;32mfor\u001b[0m \u001b[0mi\u001b[0m\u001b[0;34m,\u001b[0m \u001b[0msent\u001b[0m \u001b[0;32min\u001b[0m \u001b[0menumerate\u001b[0m\u001b[0;34m(\u001b[0m\u001b[0msents\u001b[0m\u001b[0;34m)\u001b[0m\u001b[0;34m:\u001b[0m\u001b[0;34m\u001b[0m\u001b[0;34m\u001b[0m\u001b[0m\n\u001b[0;32m----> 3\u001b[0;31m     \u001b[0mtexts\u001b[0m\u001b[0;34m[\u001b[0m\u001b[0mi\u001b[0m\u001b[0;34m,\u001b[0m \u001b[0;34m:\u001b[0m\u001b[0mlen\u001b[0m\u001b[0;34m(\u001b[0m\u001b[0msent\u001b[0m\u001b[0;34m)\u001b[0m\u001b[0;34m]\u001b[0m \u001b[0;34m=\u001b[0m \u001b[0;34m[\u001b[0m\u001b[0mchar2idx\u001b[0m\u001b[0;34m[\u001b[0m\u001b[0mchar\u001b[0m\u001b[0;34m]\u001b[0m \u001b[0;32mfor\u001b[0m \u001b[0mchar\u001b[0m \u001b[0;32min\u001b[0m \u001b[0msent\u001b[0m\u001b[0;34m]\u001b[0m\u001b[0;34m\u001b[0m\u001b[0;34m\u001b[0m\u001b[0m\n\u001b[0m",
      "\u001b[0;31mValueError\u001b[0m: cannot copy sequence with size 321 to array axis with dimension 180"
     ]
    }
   ],
   "source": [
    "texts = np.zeros((len(sents), hp.max_N), np.int32)\n",
    "for i, sent in enumerate(sents):\n",
    "    texts[i, :len(sent)] = [char2idx[char] for char in sent]\n"
   ]
  },
  {
   "cell_type": "code",
   "execution_count": null,
   "metadata": {},
   "outputs": [],
   "source": []
  },
  {
   "cell_type": "code",
   "execution_count": null,
   "metadata": {},
   "outputs": [],
   "source": []
  },
  {
   "cell_type": "code",
   "execution_count": null,
   "metadata": {},
   "outputs": [],
   "source": []
  },
  {
   "cell_type": "code",
   "execution_count": null,
   "metadata": {},
   "outputs": [],
   "source": []
  },
  {
   "cell_type": "code",
   "execution_count": null,
   "metadata": {},
   "outputs": [],
   "source": []
  },
  {
   "cell_type": "code",
   "execution_count": 113,
   "metadata": {
    "scrolled": true
   },
   "outputs": [
    {
     "ename": "ValueError",
     "evalue": "cannot copy sequence with size 2683 to array axis with dimension 180",
     "output_type": "error",
     "traceback": [
      "\u001b[0;31m---------------------------------------------------------------------------\u001b[0m",
      "\u001b[0;31mValueError\u001b[0m                                Traceback (most recent call last)",
      "\u001b[0;32m<ipython-input-113-3ab4b6f08561>\u001b[0m in \u001b[0;36m<module>\u001b[0;34m\u001b[0m\n\u001b[0;32m----> 1\u001b[0;31m \u001b[0msynthesize\u001b[0m\u001b[0;34m(\u001b[0m\u001b[0;34m)\u001b[0m\u001b[0;34m\u001b[0m\u001b[0;34m\u001b[0m\u001b[0m\n\u001b[0m",
      "\u001b[0;32m~/video-creater/synthesize.py\u001b[0m in \u001b[0;36msynthesize\u001b[0;34m()\u001b[0m\n\u001b[1;32m     21\u001b[0m \u001b[0;32mdef\u001b[0m \u001b[0msynthesize\u001b[0m\u001b[0;34m(\u001b[0m\u001b[0;34m)\u001b[0m\u001b[0;34m:\u001b[0m\u001b[0;34m\u001b[0m\u001b[0;34m\u001b[0m\u001b[0m\n\u001b[1;32m     22\u001b[0m     \u001b[0;31m# Load data\u001b[0m\u001b[0;34m\u001b[0m\u001b[0;34m\u001b[0m\u001b[0;34m\u001b[0m\u001b[0m\n\u001b[0;32m---> 23\u001b[0;31m     \u001b[0mL\u001b[0m \u001b[0;34m=\u001b[0m \u001b[0mload_data\u001b[0m\u001b[0;34m(\u001b[0m\u001b[0;34m\"synthesize\"\u001b[0m\u001b[0;34m)\u001b[0m\u001b[0;34m\u001b[0m\u001b[0;34m\u001b[0m\u001b[0m\n\u001b[0m\u001b[1;32m     24\u001b[0m \u001b[0;34m\u001b[0m\u001b[0m\n\u001b[1;32m     25\u001b[0m     \u001b[0;31m# Load graph\u001b[0m\u001b[0;34m\u001b[0m\u001b[0;34m\u001b[0m\u001b[0;34m\u001b[0m\u001b[0m\n",
      "\u001b[0;32m~/video-creater/data_load.py\u001b[0m in \u001b[0;36mload_data\u001b[0;34m(mode)\u001b[0m\n\u001b[1;32m     83\u001b[0m         \u001b[0mtexts\u001b[0m \u001b[0;34m=\u001b[0m \u001b[0mnp\u001b[0m\u001b[0;34m.\u001b[0m\u001b[0mzeros\u001b[0m\u001b[0;34m(\u001b[0m\u001b[0;34m(\u001b[0m\u001b[0mlen\u001b[0m\u001b[0;34m(\u001b[0m\u001b[0msents\u001b[0m\u001b[0;34m)\u001b[0m\u001b[0;34m,\u001b[0m \u001b[0mhp\u001b[0m\u001b[0;34m.\u001b[0m\u001b[0mmax_N\u001b[0m\u001b[0;34m)\u001b[0m\u001b[0;34m,\u001b[0m \u001b[0mnp\u001b[0m\u001b[0;34m.\u001b[0m\u001b[0mint32\u001b[0m\u001b[0;34m)\u001b[0m\u001b[0;34m\u001b[0m\u001b[0;34m\u001b[0m\u001b[0m\n\u001b[1;32m     84\u001b[0m         \u001b[0;32mfor\u001b[0m \u001b[0mi\u001b[0m\u001b[0;34m,\u001b[0m \u001b[0msent\u001b[0m \u001b[0;32min\u001b[0m \u001b[0menumerate\u001b[0m\u001b[0;34m(\u001b[0m\u001b[0msents\u001b[0m\u001b[0;34m)\u001b[0m\u001b[0;34m:\u001b[0m\u001b[0;34m\u001b[0m\u001b[0;34m\u001b[0m\u001b[0m\n\u001b[0;32m---> 85\u001b[0;31m             \u001b[0mtexts\u001b[0m\u001b[0;34m[\u001b[0m\u001b[0mi\u001b[0m\u001b[0;34m,\u001b[0m \u001b[0;34m:\u001b[0m\u001b[0mlen\u001b[0m\u001b[0;34m(\u001b[0m\u001b[0msent\u001b[0m\u001b[0;34m)\u001b[0m\u001b[0;34m]\u001b[0m \u001b[0;34m=\u001b[0m \u001b[0;34m[\u001b[0m\u001b[0mchar2idx\u001b[0m\u001b[0;34m[\u001b[0m\u001b[0mchar\u001b[0m\u001b[0;34m]\u001b[0m \u001b[0;32mfor\u001b[0m \u001b[0mchar\u001b[0m \u001b[0;32min\u001b[0m \u001b[0msent\u001b[0m\u001b[0;34m]\u001b[0m\u001b[0;34m\u001b[0m\u001b[0;34m\u001b[0m\u001b[0m\n\u001b[0m\u001b[1;32m     86\u001b[0m         \u001b[0;32mreturn\u001b[0m \u001b[0mtexts\u001b[0m\u001b[0;34m\u001b[0m\u001b[0;34m\u001b[0m\u001b[0m\n\u001b[1;32m     87\u001b[0m \u001b[0;34m\u001b[0m\u001b[0m\n",
      "\u001b[0;31mValueError\u001b[0m: cannot copy sequence with size 2683 to array axis with dimension 180"
     ]
    }
   ],
   "source": [
    "synthesize()"
   ]
  },
  {
   "cell_type": "code",
   "execution_count": null,
   "metadata": {},
   "outputs": [],
   "source": []
  },
  {
   "cell_type": "code",
   "execution_count": null,
   "metadata": {},
   "outputs": [],
   "source": []
  },
  {
   "cell_type": "code",
   "execution_count": null,
   "metadata": {},
   "outputs": [],
   "source": []
  },
  {
   "cell_type": "code",
   "execution_count": null,
   "metadata": {},
   "outputs": [],
   "source": [
    "vars(hp)"
   ]
  },
  {
   "cell_type": "code",
   "execution_count": null,
   "metadata": {},
   "outputs": [],
   "source": []
  }
 ],
 "metadata": {
  "kernelspec": {
   "display_name": "Python 3",
   "language": "python",
   "name": "python3"
  },
  "language_info": {
   "codemirror_mode": {
    "name": "ipython",
    "version": 3
   },
   "file_extension": ".py",
   "mimetype": "text/x-python",
   "name": "python",
   "nbconvert_exporter": "python",
   "pygments_lexer": "ipython3",
   "version": "3.7.3"
  }
 },
 "nbformat": 4,
 "nbformat_minor": 2
}
